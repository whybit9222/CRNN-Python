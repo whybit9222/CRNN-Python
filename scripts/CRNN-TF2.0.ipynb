{
 "cells": [
  {
   "cell_type": "code",
   "execution_count": 1,
   "metadata": {},
   "outputs": [],
   "source": [
    "import tensorflow as tf\n",
    "import numpy as np\n",
    "import tensorflow_probability as tfp\n",
    "import math as m\n",
    "\n",
    "import matplotlib.pyplot as plt\n",
    "import matplotlib.animation as animation\n",
    "\n",
    "import os"
   ]
  },
  {
   "cell_type": "code",
   "execution_count": 2,
   "metadata": {},
   "outputs": [],
   "source": [
    "\n",
    "lb = 1e-8\n",
    "n_epoch = 2500\n",
    "n_plot = 10\n",
    "grad_max = 1e2\n",
    "maxiters = 50000\n",
    "\n",
    "lr_max = 5e-3\n",
    "lr_min = 1e-5\n",
    "lr_decay = 0.2\n",
    "lr_decay_step = 500\n",
    "w_decay = 1e-8\n",
    "\n",
    "llb = lb\n",
    "p_cutoff = -1.0\n",
    "R = -1.0 / 8.314e-3\n",
    "\n",
    "l_exp = np.arange(1,15)\n",
    "n_exp = len(l_exp)\n",
    "\n",
    "l_train = []\n",
    "l_val = []\n",
    "for i in np.arange(0,n_exp):\n",
    "    j = l_exp[i]\n",
    "    if not (j in [2, 6, 9, 12]):\n",
    "        l_train.append(i+1)\n",
    "    else:\n",
    "        l_val.append(i+1)"
   ]
  },
  {
   "cell_type": "markdown",
   "metadata": {},
   "source": [
    "# 初始参数设定"
   ]
  },
  {
   "cell_type": "code",
   "execution_count": 5,
   "metadata": {},
   "outputs": [],
   "source": [
    "\n",
    "lb = 1e-8\n",
    "n_epoch = 2500\n",
    "n_plot = 10\n",
    "grad_max = 1e2\n",
    "maxiters = 50000\n",
    "\n",
    "lr_max = 5e-3\n",
    "lr_min = 1e-5\n",
    "lr_decay = 0.2\n",
    "lr_decay_step = 500\n",
    "w_decay = 1e-8\n",
    "\n",
    "llb = lb\n",
    "p_cutoff = -1.0\n",
    "R = -1.0 / 8.314e-3\n",
    "\n",
    "\n",
    "\n",
    "nr=8\n",
    "ns=4\n",
    "\n",
    "npara = nr * (ns + 4) + 1"
   ]
  },
  {
   "cell_type": "markdown",
   "metadata": {},
   "source": [
    "# 实验数据读取"
   ]
  },
  {
   "cell_type": "markdown",
   "metadata": {},
   "source": [
    "## 目录定义"
   ]
  },
  {
   "cell_type": "code",
   "execution_count": 6,
   "metadata": {},
   "outputs": [
    {
     "name": "stdout",
     "output_type": "stream",
     "text": [
      "当前工作目录：w:\\CRNN-TF2.0\\CRNN-TF2.0\n"
     ]
    }
   ],
   "source": [
    "expr_name = \"4s8r-01\"\n",
    "os.chdir(\"..\")\n",
    "print(\"当前工作目录：%s\"%(str(os.getcwd())))\n",
    "\n",
    "# 不要重复执行这段代码"
   ]
  },
  {
   "cell_type": "code",
   "execution_count": 10,
   "metadata": {},
   "outputs": [],
   "source": [
    "fig_path = str(\"./results/\" + expr_name + \"/figs\")\n",
    "ckpt_path = str(\"./results/\" + expr_name + \"/checkpoint\")\n",
    "script_path = str(\"./scripts\")\n",
    "\n",
    "if not os.path.exists(fig_path):\n",
    "    os.makedirs(fig_path)\n",
    "\n",
    "if not os.path.exists(ckpt_path):\n",
    "    os.makedirs(ckpt_path)\n"
   ]
  },
  {
   "cell_type": "markdown",
   "metadata": {},
   "source": [
    "# 数据导入"
   ]
  },
  {
   "cell_type": "code",
   "execution_count": 17,
   "metadata": {},
   "outputs": [],
   "source": [
    "def load_exp(filename):\n",
    "    exp_data = np.loadtxt(filename)\n",
    "    \n",
    "    # 归一化质量数据\n",
    "    exp_data[:, 2] = exp_data[:, 2] / max(exp_data[:,2])\n",
    "    return tf.constant(exp_data, dtype=tf.float64)\n",
    "\n",
    "# 共十四个实验，依次编号为1，2，...，14\n",
    "l_exp = np.arange(1,15)\n",
    "n_exp = len(l_exp)\n",
    "\n",
    "# 训练集与验证集的数字编号列表，其中[2,6,9,12]为测试集\n",
    "l_train = []\n",
    "l_val = []\n",
    "for i in np.arange(1,n_exp+1):\n",
    "    j = l_exp[i-1]\n",
    "    if not (j in [2, 6, 9, 12]):\n",
    "        l_train.append(i)\n",
    "    else:\n",
    "        l_val.append(i)\n",
    "\n",
    "l_exp_data = []\n",
    "l_exp_info = np.zeros(shape=(len(l_exp), 3))\n",
    "\n"
   ]
  },
  {
   "cell_type": "code",
   "execution_count": null,
   "metadata": {},
   "outputs": [],
   "source": []
  },
  {
   "cell_type": "code",
   "execution_count": 24,
   "metadata": {},
   "outputs": [],
   "source": [
    "for i_exp, value in enumerate(l_exp):\n",
    "    filename = str(\"./exp_data/expdata_no\"+str(value)+\".txt\")\n",
    "    exp_data = load_exp(filename)\n",
    "    if value == 4:\n",
    "        exp_data = exp_data[:60, :]\n",
    "    elif value == 5:\n",
    "        exp_data = exp_data[:58, :]\n",
    "    elif value == 6:\n",
    "        exp_data = exp_data[:60, :]\n",
    "    elif value == 7:\n",
    "        exp_data = exp_data[:71, :]\n",
    "    l_exp_data.append(exp_data)\n",
    "\n",
    "    # Initial temperature\n",
    "    l_exp_info[i_exp-1, 0] = exp_data[0, 1]\n",
    "\n",
    "\n",
    "l_exp_info[:, 1] = np.loadtxt(\"exp_data/beta.txt\")\n",
    "l_exp_info[:, 2] = np.log(np.loadtxt(\"exp_data/ocen.txt\")+llb)\n",
    "\n",
    "l_exp_info = tf.constant(l_exp_info, dtype=tf.float64)"
   ]
  },
  {
   "cell_type": "markdown",
   "metadata": {},
   "source": [
    "# 初始化p矩阵"
   ]
  },
  {
   "cell_type": "code",
   "execution_count": 38,
   "metadata": {},
   "outputs": [],
   "source": [
    "p = np.random.randn(npara) * 1.e-2\n",
    "p[:nr] += 0.8 # w_b\n",
    "# nr~nr*(ns+1) vij\n",
    "p[nr*(ns+1):nr*(ns+2)] += 0.8 # w_out\n",
    "p[nr*(ns+2):nr*(ns+4)] += 0.1 # w_b | w_Ea\n",
    "p[-1] = 0.1 # slope\n",
    "\n",
    "p = tf.Variable(p, dtype=tf.float64)"
   ]
  },
  {
   "cell_type": "code",
   "execution_count": 91,
   "metadata": {},
   "outputs": [
    {
     "name": "stdout",
     "output_type": "stream",
     "text": [
      "tf.Tensor(\n",
      "[[ 0.  5. 10.]\n",
      " [ 1.  6. 11.]\n",
      " [ 2.  7. 12.]\n",
      " [ 3.  8. 13.]\n",
      " [ 4.  9. 14.]], shape=(5, 3), dtype=float64)\n"
     ]
    },
    {
     "data": {
      "text/plain": [
       "<tf.Tensor: shape=(5, 3), dtype=float64, numpy=\n",
       "array([[ 0.,  5., 10.],\n",
       "       [ 1.,  6., 11.],\n",
       "       [ 2.,  7., 12.],\n",
       "       [ 6., 26., 46.],\n",
       "       [ 4.,  9., 14.]])>"
      ]
     },
     "execution_count": 91,
     "metadata": {},
     "output_type": "execute_result"
    }
   ],
   "source": [
    "#测试\n",
    "a = tf.Variable(np.arange(15), dtype=tf.float64)\n",
    "b = tf.Variable([6,7,8,9,10], dtype=tf.float64)\n",
    "\n",
    "c = tf.transpose(tf.reshape(a, shape=(3,5)))\n",
    "print(c)\n",
    "temp1 = tf.reshape(tf.reduce_sum(c[:4, :], 0),shape=(1,3))\n",
    "c = tf.concat([c[:-2, :], temp1, c[-1:,:]],axis=0)\n",
    "c"
   ]
  },
  {
   "cell_type": "markdown",
   "metadata": {},
   "source": [
    "# 定义CRNN方程"
   ]
  },
  {
   "cell_type": "markdown",
   "metadata": {},
   "source": [
    "## 整理P矩阵\n",
    "\n",
    "> 只能使用TensorFlow内部的张量操作，否则无法获得梯度。"
   ]
  },
  {
   "cell_type": "code",
   "execution_count": 105,
   "metadata": {},
   "outputs": [],
   "source": [
    "@tf.function\n",
    "def p2vec(p):\n",
    "    slope = p[-1] * 1.e1\n",
    "    \n",
    "    w_b = p[:nr] * (slope * 10.0)\n",
    "    w_b = tf.clip_by_value(w_b, clip_value_min=0., clip_value_max=50.)\n",
    "    \n",
    "    # julia 与 tf的reshape函数实现不同\n",
    "    w_out = tf.reshape(p[nr:nr*(ns+1)],shape=(nr,ns))\n",
    "    w_out = tf.transpose(w_out)\n",
    "\n",
    "    temp1 = tf.clip_by_value(w_out[0:1, :], -3., 0.)\n",
    "    temp2 = tf.clip_by_value(tf.abs(w_out[-1:, :]), 0., 3.)\n",
    "    w_out = tf.concat([temp1, w_out[1:-1], temp2], axis=0)\n",
    "\n",
    "    # 此段省略\n",
    "    # julia原文：\n",
    "    # if p_cutoff > 0.0\n",
    "    #     w_out[findall(abs.(w_out) .< p_cutoff)] .= 0.0\n",
    "    # end\n",
    "\n",
    "    temp3 = -1*(tf.reduce_sum(w_out[:-2,:], 0) + w_out[-1:, :])\n",
    "    temp3 = tf.reshape(temp3, shape=(1,nr))\n",
    "    \n",
    "    w_out = tf.concat([w_out[:-2,:], temp3, w_out[-1:,:]], axis=0)\n",
    "\n",
    "    w_in_Ea = tf.abs(p[nr*(ns+1):nr*(ns+2)]) * slope * 100.\n",
    "    w_in_Ea = tf.clip_by_value(w_in_Ea, 0., 300.)\n",
    "    w_in_Ea = tf.reshape(w_in_Ea, shape=(1,8))\n",
    "\n",
    "    w_in_b = tf.abs(p[nr*(ns+2):nr*(ns+3)])\n",
    "    w_in_b = tf.reshape(w_in_b, shape=(1,8))\n",
    "\n",
    "    w_in_ocen = tf.abs(p[nr*(ns+3):nr*(ns+4)])\n",
    "    w_in_ocen = tf.clip_by_value(w_in_ocen, 0., 1.5)\n",
    "    w_in_ocen = tf.reshape(w_in_ocen, shape=(1,8))\n",
    "\n",
    "    # 此段省略\n",
    "    # julia原文：\n",
    "    # if p_cutoff > 0:\n",
    "    #     w_in_ocean[abs(w_in_ocean)<p_cutoff] = 0.0\n",
    "    \n",
    "    w_in = tf.concat([\n",
    "        tf.clip_by_value(w_out*(-1),0.,4.),\n",
    "        w_in_Ea,\n",
    "        w_in_b,\n",
    "        w_in_ocen\n",
    "    ], 0)\n",
    "\n",
    "    return w_in, w_b, w_out"
   ]
  },
  {
   "cell_type": "code",
   "execution_count": 114,
   "metadata": {},
   "outputs": [],
   "source": [
    "# 测试p\n",
    "p_test = tf.constant(np.loadtxt(\"p.txt\"))"
   ]
  },
  {
   "cell_type": "markdown",
   "metadata": {},
   "source": [
    "## 定义CRNN结构"
   ]
  },
  {
   "cell_type": "code",
   "execution_count": 106,
   "metadata": {},
   "outputs": [],
   "source": [
    "def getsampletemp(t, T0, beta):\n",
    "    if beta<100:\n",
    "        T = T0 + beta / 60 * t\n",
    "    else:\n",
    "        tc = tf.constant([999.0, 1059.0]) * 60.0\n",
    "        Tc = tf.constant([beta, 370.0, 500.0]) + 273.0\n",
    "        HR = 40.0/60.0\n",
    "        if t <= tc[0]:\n",
    "            T = Tc[0]\n",
    "        elif t <= tc[1]:\n",
    "            T = min(Tc[0] + HR * (t-tc[0]), Tc[1])\n",
    "        else:\n",
    "            \n",
    "            T = min(Tc[1] + HR * (t-tc[1]), Tc[2])\n",
    "    return T"
   ]
  },
  {
   "cell_type": "code",
   "execution_count": 116,
   "metadata": {},
   "outputs": [],
   "source": [
    "@tf.function\n",
    "def crnn(t, u):\n",
    "    logX = tf.math.log(tf.reshape(tf.clip_by_value(u, lb, 10.), shape=(4,1)))\n",
    "    T = getsampletemp(t, T0, beta)\n",
    "    global p\n",
    "    w_in, w_b, w_out = p2vec(p)\n",
    "    w_in_X = tf.matmul(tf.transpose(w_in), tf.concat([logX, R/T, tf.log(T), ocen],0))\n",
    "    du_dt = tf.matmul(w_out, tf.exp(tf.reshape(w_in_X, shape=(nr,1))+tf.reshape(w_b, shape=(nr,1))))\n",
    "    return du_dt\n",
    "\n",
    "u0 = tf.ones(shape=(ns,))\n",
    "\n",
    "@tf.function\n",
    "def pred_n_ode(p, i_exp, exp_data):\n",
    "    global T0, beta, ocen\n",
    "    T0 = l_exp_info[i_exp-1, 0]\n",
    "    beta = l_exp_info[i_exp-1, 1]\n",
    "    ocen = l_exp_info[i_exp-1, 2]\n",
    "    ts = exp_data[:, 0]\n",
    "    tspan = [ts[0],ts[-1]]\n",
    "\n",
    "    solution = tf.function(lambda: tfp.math.ode.BDF().solve(\n",
    "        crnn,\n",
    "        tspan[0],#t_init\n",
    "        u0,\n",
    "        solution_times=ts\n",
    "    ), autograph=True)()\n",
    "    return solution.states\n"
   ]
  },
  {
   "cell_type": "code",
   "execution_count": 117,
   "metadata": {},
   "outputs": [
    {
     "ename": "TypeError",
     "evalue": "in user code:\n\n    File \"<ipython-input-116-da124a9ce6cc>\", line 22, in pred_n_ode  *\n        solution = tf.function(lambda: tfp.math.ode.BDF().solve(\n    File \"<ipython-input-116-da124a9ce6cc>\", line 4, in crnn  *\n        T = getsampletemp(t, T0, beta)\n    File \"<ipython-input-106-2cd5d8a90ea0>\", line 3, in getsampletemp  *\n        T = T0 + beta / 60 * t\n\n    TypeError: Input 'y' of 'Mul' Op has type float32 that does not match type float64 of argument 'x'.\n",
     "output_type": "error",
     "traceback": [
      "\u001b[1;31m---------------------------------------------------------------------------\u001b[0m",
      "\u001b[1;31mTypeError\u001b[0m                                 Traceback (most recent call last)",
      "\u001b[1;32m<ipython-input-117-1c2de9042671>\u001b[0m in \u001b[0;36m<module>\u001b[1;34m\u001b[0m\n\u001b[0;32m      1\u001b[0m \u001b[1;31m# pred_n_ode测试\u001b[0m\u001b[1;33m\u001b[0m\u001b[1;33m\u001b[0m\u001b[1;33m\u001b[0m\u001b[0m\n\u001b[1;32m----> 2\u001b[1;33m \u001b[0mu_test\u001b[0m \u001b[1;33m=\u001b[0m \u001b[0mpred_n_ode\u001b[0m\u001b[1;33m(\u001b[0m\u001b[0mp_test\u001b[0m\u001b[1;33m,\u001b[0m \u001b[1;36m0\u001b[0m\u001b[1;33m,\u001b[0m \u001b[0mexp_data\u001b[0m\u001b[1;33m)\u001b[0m\u001b[1;33m\u001b[0m\u001b[1;33m\u001b[0m\u001b[0m\n\u001b[0m",
      "\u001b[1;32m~\\AppData\\Roaming\\Python\\Python37\\site-packages\\tensorflow\\python\\util\\traceback_utils.py\u001b[0m in \u001b[0;36merror_handler\u001b[1;34m(*args, **kwargs)\u001b[0m\n\u001b[0;32m    151\u001b[0m     \u001b[1;32mexcept\u001b[0m \u001b[0mException\u001b[0m \u001b[1;32mas\u001b[0m \u001b[0me\u001b[0m\u001b[1;33m:\u001b[0m\u001b[1;33m\u001b[0m\u001b[1;33m\u001b[0m\u001b[0m\n\u001b[0;32m    152\u001b[0m       \u001b[0mfiltered_tb\u001b[0m \u001b[1;33m=\u001b[0m \u001b[0m_process_traceback_frames\u001b[0m\u001b[1;33m(\u001b[0m\u001b[0me\u001b[0m\u001b[1;33m.\u001b[0m\u001b[0m__traceback__\u001b[0m\u001b[1;33m)\u001b[0m\u001b[1;33m\u001b[0m\u001b[1;33m\u001b[0m\u001b[0m\n\u001b[1;32m--> 153\u001b[1;33m       \u001b[1;32mraise\u001b[0m \u001b[0me\u001b[0m\u001b[1;33m.\u001b[0m\u001b[0mwith_traceback\u001b[0m\u001b[1;33m(\u001b[0m\u001b[0mfiltered_tb\u001b[0m\u001b[1;33m)\u001b[0m \u001b[1;32mfrom\u001b[0m \u001b[1;32mNone\u001b[0m\u001b[1;33m\u001b[0m\u001b[1;33m\u001b[0m\u001b[0m\n\u001b[0m\u001b[0;32m    154\u001b[0m     \u001b[1;32mfinally\u001b[0m\u001b[1;33m:\u001b[0m\u001b[1;33m\u001b[0m\u001b[1;33m\u001b[0m\u001b[0m\n\u001b[0;32m    155\u001b[0m       \u001b[1;32mdel\u001b[0m \u001b[0mfiltered_tb\u001b[0m\u001b[1;33m\u001b[0m\u001b[1;33m\u001b[0m\u001b[0m\n",
      "\u001b[1;32m~\\AppData\\Roaming\\Python\\Python37\\site-packages\\tensorflow\\python\\framework\\func_graph.py\u001b[0m in \u001b[0;36mautograph_handler\u001b[1;34m(*args, **kwargs)\u001b[0m\n\u001b[0;32m   1145\u001b[0m           \u001b[1;32mexcept\u001b[0m \u001b[0mException\u001b[0m \u001b[1;32mas\u001b[0m \u001b[0me\u001b[0m\u001b[1;33m:\u001b[0m  \u001b[1;31m# pylint:disable=broad-except\u001b[0m\u001b[1;33m\u001b[0m\u001b[1;33m\u001b[0m\u001b[0m\n\u001b[0;32m   1146\u001b[0m             \u001b[1;32mif\u001b[0m \u001b[0mhasattr\u001b[0m\u001b[1;33m(\u001b[0m\u001b[0me\u001b[0m\u001b[1;33m,\u001b[0m \u001b[1;34m\"ag_error_metadata\"\u001b[0m\u001b[1;33m)\u001b[0m\u001b[1;33m:\u001b[0m\u001b[1;33m\u001b[0m\u001b[1;33m\u001b[0m\u001b[0m\n\u001b[1;32m-> 1147\u001b[1;33m               \u001b[1;32mraise\u001b[0m \u001b[0me\u001b[0m\u001b[1;33m.\u001b[0m\u001b[0mag_error_metadata\u001b[0m\u001b[1;33m.\u001b[0m\u001b[0mto_exception\u001b[0m\u001b[1;33m(\u001b[0m\u001b[0me\u001b[0m\u001b[1;33m)\u001b[0m\u001b[1;33m\u001b[0m\u001b[1;33m\u001b[0m\u001b[0m\n\u001b[0m\u001b[0;32m   1148\u001b[0m             \u001b[1;32melse\u001b[0m\u001b[1;33m:\u001b[0m\u001b[1;33m\u001b[0m\u001b[1;33m\u001b[0m\u001b[0m\n\u001b[0;32m   1149\u001b[0m               \u001b[1;32mraise\u001b[0m\u001b[1;33m\u001b[0m\u001b[1;33m\u001b[0m\u001b[0m\n",
      "\u001b[1;31mTypeError\u001b[0m: in user code:\n\n    File \"<ipython-input-116-da124a9ce6cc>\", line 22, in pred_n_ode  *\n        solution = tf.function(lambda: tfp.math.ode.BDF().solve(\n    File \"<ipython-input-116-da124a9ce6cc>\", line 4, in crnn  *\n        T = getsampletemp(t, T0, beta)\n    File \"<ipython-input-106-2cd5d8a90ea0>\", line 3, in getsampletemp  *\n        T = T0 + beta / 60 * t\n\n    TypeError: Input 'y' of 'Mul' Op has type float32 that does not match type float64 of argument 'x'.\n"
     ]
    }
   ],
   "source": [
    "# pred_n_ode测试\n",
    "u_test = pred_n_ode(p_test, 0, exp_data)"
   ]
  },
  {
   "cell_type": "markdown",
   "metadata": {},
   "source": [
    "# 定义损失函数"
   ]
  },
  {
   "cell_type": "code",
   "execution_count": 107,
   "metadata": {},
   "outputs": [],
   "source": [
    "def loss_n_ode(p, i_exp):\n",
    "    exp_data = l_exp_data[i_exp-1]\n",
    "    pred = pred_n_ode(p, i_exp, exp_data)\n",
    "    \n",
    "    masslist = tf.reduce_sum(tf.clip_by_value(pred[:-1,:], 0, 1e3),axis=0)\n",
    "    gaslist = tf.clip_by_value(pred[-1:,:], 0, 1e3)\n",
    "\n",
    "    loss = tf.keras.losses.MAE(masslist, exp_data[:len(masslist),2])\n",
    "\n",
    "    if ocen < 1000.:\n",
    "        loss += tf.keras.losses.MAE(gaslist, (1-exp_data[:len(masslist),2]))\n",
    "    \n",
    "    return loss"
   ]
  },
  {
   "cell_type": "code",
   "execution_count": null,
   "metadata": {},
   "outputs": [],
   "source": []
  },
  {
   "cell_type": "markdown",
   "metadata": {},
   "source": [
    "# 训练过程"
   ]
  },
  {
   "cell_type": "code",
   "execution_count": null,
   "metadata": {},
   "outputs": [],
   "source": [
    "opt = ...\n",
    "for epoch in range(n_epoch):\n",
    "    print(\"Start epoch %d\" %(epoch))\n",
    "    \n",
    "    for i_exp in (shuffled index of experiments):\n",
    "        if i_exp in l_val:\n",
    "            continue\n",
    "\n",
    "        with tf.GradientTape() as tape:\n",
    "            tape.watch(p)\n",
    "            loss = loss_n_ode(p, i_exp)\n",
    "        \n",
    "        grad = tape.gradient(loss, p)\n",
    "        opt.apply_gradients(zip([grad],[p]))\n",
    "    \n"
   ]
  }
 ],
 "metadata": {
  "interpreter": {
   "hash": "5109d816b82be14675a6b11f8e0f0d2e80f029176ed3710d54e125caa8520dfd"
  },
  "kernelspec": {
   "display_name": "Python 3.7.7 64-bit",
   "language": "python",
   "name": "python3"
  },
  "language_info": {
   "codemirror_mode": {
    "name": "ipython",
    "version": 3
   },
   "file_extension": ".py",
   "mimetype": "text/x-python",
   "name": "python",
   "nbconvert_exporter": "python",
   "pygments_lexer": "ipython3",
   "version": "3.7.7"
  },
  "orig_nbformat": 4
 },
 "nbformat": 4,
 "nbformat_minor": 2
}
