{
 "cells": [
  {
   "cell_type": "code",
   "execution_count": 9,
   "metadata": {},
   "outputs": [],
   "source": [
    "import tensorflow as tf\n",
    "import numpy as np\n",
    "import tensorflow_probability as tfp\n",
    "import math as m\n",
    "\n",
    "import matplotlib.pyplot as plt\n",
    "import matplotlib.animation as animation\n",
    "\n",
    "import os"
   ]
  },
  {
   "cell_type": "code",
   "execution_count": 6,
   "metadata": {},
   "outputs": [],
   "source": [
    "\n",
    "lb = 1e-8\n",
    "n_epoch = 2500\n",
    "n_plot = 10\n",
    "grad_max = 1e2\n",
    "maxiters = 50000\n",
    "\n",
    "lr_max = 5e-3\n",
    "lr_min = 1e-5\n",
    "lr_decay = 0.2\n",
    "lr_decay_step = 500\n",
    "w_decay = 1e-8\n",
    "\n",
    "llb = lb\n",
    "p_cutoff = -1.0\n",
    "R = -1.0 / 8.314e-3\n",
    "\n",
    "l_exp = np.arange(1,15)\n",
    "n_exp = len(l_exp)\n",
    "\n",
    "l_train = []\n",
    "l_val = []\n",
    "for i in np.arange(0,n_exp):\n",
    "    j = l_exp[i]\n",
    "    if not (j in [2, 6, 9, 12]):\n",
    "        l_train.append(i+1)\n",
    "    else:\n",
    "        l_val.append(i+1)"
   ]
  },
  {
   "cell_type": "markdown",
   "metadata": {},
   "source": [
    "# 初始参数设定"
   ]
  },
  {
   "cell_type": "code",
   "execution_count": 11,
   "metadata": {},
   "outputs": [],
   "source": [
    "\n",
    "lb = 1e-8\n",
    "n_epoch = 2500\n",
    "n_plot = 10\n",
    "grad_max = 1e2\n",
    "maxiters = 50000\n",
    "\n",
    "lr_max = 5e-3\n",
    "lr_min = 1e-5\n",
    "lr_decay = 0.2\n",
    "lr_decay_step = 500\n",
    "w_decay = 1e-8\n",
    "\n",
    "llb = lb\n",
    "p_cutoff = -1.0\n",
    "R = -1.0 / 8.314e-3\n",
    "\n",
    "# 共十四个实验，依次编号为1，2，...，14\n",
    "l_exp = np.arange(1,15)\n",
    "n_exp = len(l_exp)\n",
    "\n",
    "# 训练集与验证集的数字编号列表，其中[2,6,9,12]为测试集\n",
    "l_train = []\n",
    "l_val = []\n",
    "for i in np.arange(1,n_exp+1):\n",
    "    j = l_exp[i]\n",
    "    if not (j in [2, 6, 9, 12]):\n",
    "        l_train.append(i+1)\n",
    "    else:\n",
    "        l_val.append(i+1)\n",
    "\n",
    "nr=8\n",
    "ns=4\n",
    "\n",
    "npara = nr * (ns + 4) + 1"
   ]
  },
  {
   "cell_type": "markdown",
   "metadata": {},
   "source": [
    "# 实验数据读取"
   ]
  },
  {
   "cell_type": "markdown",
   "metadata": {},
   "source": [
    "## 目录定义"
   ]
  },
  {
   "cell_type": "code",
   "execution_count": 12,
   "metadata": {},
   "outputs": [
    {
     "name": "stdout",
     "output_type": "stream",
     "text": [
      "当前工作目录：w:\\Weekly Reportex\\No.76\n"
     ]
    }
   ],
   "source": [
    "expr_name = \"4s8r-01\"\n",
    "os.chdir(\"..\")\n",
    "print(\"当前工作目录：%s\"%(str(os.getcwd())))"
   ]
  },
  {
   "cell_type": "code",
   "execution_count": null,
   "metadata": {},
   "outputs": [],
   "source": []
  },
  {
   "cell_type": "code",
   "execution_count": null,
   "metadata": {},
   "outputs": [],
   "source": [
    "def load_exp(filename):\n",
    "    exp_data = np.loadtxt(filename)\n",
    "    \n",
    "    # 归一化质量数据\n",
    "    exp_data[:, 2] = exp_data[:, 2] / max(exp_data[:,2])\n",
    "    return tf.constant(exp_data, dtype=tf.float64)\n",
    "\n",
    "l_exp_data = []\n",
    "l_exp_info = tf.zeros(shape=(len(l_exp), 3))"
   ]
  },
  {
   "cell_type": "markdown",
   "metadata": {},
   "source": [
    "# 初始化p矩阵"
   ]
  },
  {
   "cell_type": "code",
   "execution_count": 4,
   "metadata": {},
   "outputs": [],
   "source": [
    "p = tf.Variable(tf.zeros(shape=(npara)))"
   ]
  },
  {
   "cell_type": "markdown",
   "metadata": {},
   "source": [
    "# 定义CRNN方程"
   ]
  },
  {
   "cell_type": "code",
   "execution_count": null,
   "metadata": {},
   "outputs": [],
   "source": [
    "def p2vec(p):\n",
    "    w_in = ...\n",
    "    w_b = ...\n",
    "    w_out = ...\n",
    "    return w_in, w_b, w_out\n",
    "\n",
    "@tf.function\n",
    "def crnn(t, u):\n",
    "    du_dt = ...\n",
    "    return du_dt"
   ]
  },
  {
   "cell_type": "markdown",
   "metadata": {},
   "source": [
    "# 定义损失函数"
   ]
  },
  {
   "cell_type": "code",
   "execution_count": null,
   "metadata": {},
   "outputs": [],
   "source": [
    "def loss_n_ode(p, i_exp):\n",
    "    return loss"
   ]
  },
  {
   "cell_type": "code",
   "execution_count": null,
   "metadata": {},
   "outputs": [],
   "source": []
  },
  {
   "cell_type": "markdown",
   "metadata": {},
   "source": [
    "# 训练过程"
   ]
  },
  {
   "cell_type": "code",
   "execution_count": null,
   "metadata": {},
   "outputs": [],
   "source": [
    "opt = ...\n",
    "for epoch in range(n_epoch):\n",
    "    print(\"Start epoch %d\" %(epoch))\n",
    "    \n",
    "    for i_exp in (shuffled index of experiments):\n",
    "        if i_exp in l_val:\n",
    "            continue\n",
    "\n",
    "        with tf.GradientTape() as tape:\n",
    "            tape.watch(p)\n",
    "            loss = loss_n_ode(p, i_exp)\n",
    "        \n",
    "        grad = tape.gradient(loss, p)\n",
    "        opt.apply_gradients(zip([grad],[p]))\n",
    "    \n"
   ]
  }
 ],
 "metadata": {
  "interpreter": {
   "hash": "5109d816b82be14675a6b11f8e0f0d2e80f029176ed3710d54e125caa8520dfd"
  },
  "kernelspec": {
   "display_name": "Python 3.7.7 64-bit",
   "language": "python",
   "name": "python3"
  },
  "language_info": {
   "codemirror_mode": {
    "name": "ipython",
    "version": 3
   },
   "file_extension": ".py",
   "mimetype": "text/x-python",
   "name": "python",
   "nbconvert_exporter": "python",
   "pygments_lexer": "ipython3",
   "version": "3.7.7"
  },
  "orig_nbformat": 4
 },
 "nbformat": 4,
 "nbformat_minor": 2
}
