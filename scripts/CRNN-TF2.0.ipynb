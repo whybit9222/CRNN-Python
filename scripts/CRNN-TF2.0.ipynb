{
 "cells": [
  {
   "cell_type": "code",
   "execution_count": 1,
   "metadata": {},
   "outputs": [],
   "source": [
    "import tensorflow as tf\n",
    "import numpy as np\n",
    "import tensorflow_probability as tfp\n",
    "import math as m\n",
    "\n",
    "import matplotlib.pyplot as plt\n",
    "import matplotlib.animation as animation\n",
    "\n",
    "import os"
   ]
  },
  {
   "cell_type": "code",
   "execution_count": 2,
   "metadata": {},
   "outputs": [],
   "source": [
    "lb = 1e-8\n",
    "n_epoch = 2500\n",
    "n_plot = 10\n",
    "grad_max = 1e2\n",
    "maxiters = 50000\n",
    "\n",
    "lr_max = 5e-3\n",
    "lr_min = 1e-5\n",
    "lr_decay = 0.2\n",
    "lr_decay_step = 500\n",
    "w_decay = 1e-8\n",
    "\n",
    "llb = lb\n",
    "p_cutoff = -1.0\n",
    "R = -1.0 / 8.314e-3\n",
    "\n",
    "l_exp = np.arange(1,15)\n",
    "n_exp = len(l_exp)\n",
    "\n",
    "nr=8\n",
    "ns=4\n",
    "\n",
    "npara = nr * (ns + 4) + 1\n",
    "\n",
    "l_train = []\n",
    "l_val = []\n",
    "for i in np.arange(0,n_exp):\n",
    "    j = l_exp[i]\n",
    "    if not (j in [2, 6, 9, 12]):\n",
    "        l_train.append(i+1)\n",
    "    else:\n",
    "        l_val.append(i+1)"
   ]
  },
  {
   "cell_type": "markdown",
   "metadata": {},
   "source": [
    "# 初始参数设定"
   ]
  },
  {
   "cell_type": "code",
   "execution_count": 3,
   "metadata": {},
   "outputs": [],
   "source": [
    "\n",
    "\n",
    "llb = lb\n",
    "p_cutoff = -1.0\n",
    "R = -1.0 / 8.314e-3\n",
    "\n"
   ]
  },
  {
   "cell_type": "markdown",
   "metadata": {},
   "source": [
    "# 实验数据读取"
   ]
  },
  {
   "cell_type": "markdown",
   "metadata": {},
   "source": [
    "## 目录定义"
   ]
  },
  {
   "cell_type": "code",
   "execution_count": 4,
   "metadata": {},
   "outputs": [
    {
     "name": "stdout",
     "output_type": "stream",
     "text": [
      "当前工作目录：w:\\CRNN-TF2.0\\CRNN-TF2.0\n"
     ]
    }
   ],
   "source": [
    "expr_name = \"4s8r-01\"\n",
    "os.chdir(\"..\")\n",
    "print(\"当前工作目录：%s\"%(str(os.getcwd())))\n",
    "\n",
    "# 不要重复执行这段代码"
   ]
  },
  {
   "cell_type": "code",
   "execution_count": 5,
   "metadata": {},
   "outputs": [],
   "source": [
    "fig_path = str(\"./results/\" + expr_name + \"/figs\")\n",
    "ckpt_path = str(\"./results/\" + expr_name + \"/checkpoint\")\n",
    "script_path = str(\"./scripts\")\n",
    "\n",
    "if not os.path.exists(fig_path):\n",
    "    os.makedirs(fig_path)\n",
    "\n",
    "if not os.path.exists(ckpt_path):\n",
    "    os.makedirs(ckpt_path)\n"
   ]
  },
  {
   "cell_type": "markdown",
   "metadata": {},
   "source": [
    "# 数据导入"
   ]
  },
  {
   "cell_type": "code",
   "execution_count": 6,
   "metadata": {},
   "outputs": [],
   "source": [
    "def load_exp(filename):\n",
    "    exp_data = np.loadtxt(filename)\n",
    "    \n",
    "    # 归一化质量数据\n",
    "    exp_data[:, 2] = exp_data[:, 2] / max(exp_data[:,2])\n",
    "    return tf.constant(exp_data, dtype=tf.float32)\n",
    "\n",
    "# 共十四个实验，依次编号为1，2，...，14\n",
    "l_exp = np.arange(1,15)\n",
    "n_exp = len(l_exp)\n",
    "\n",
    "# 训练集与验证集的数字编号列表，其中[2,6,9,12]为测试集\n",
    "l_train = []\n",
    "l_val = []\n",
    "for i in np.arange(1,n_exp+1):\n",
    "    j = l_exp[i-1]\n",
    "    if not (j in [2, 6, 9, 12]):\n",
    "        l_train.append(i)\n",
    "    else:\n",
    "        l_val.append(i)\n",
    "\n",
    "l_exp_data = []\n",
    "l_exp_info = np.zeros(shape=(len(l_exp), 3))\n",
    "\n"
   ]
  },
  {
   "cell_type": "code",
   "execution_count": 7,
   "metadata": {},
   "outputs": [],
   "source": [
    "for i_exp, value in enumerate(l_exp):\n",
    "    filename = str(\"./exp_data/expdata_no\"+str(value)+\".txt\")\n",
    "    exp_data = load_exp(filename)\n",
    "    if value == 4:\n",
    "        exp_data = exp_data[:60, :]\n",
    "    elif value == 5:\n",
    "        exp_data = exp_data[:58, :]\n",
    "    elif value == 6:\n",
    "        exp_data = exp_data[:60, :]\n",
    "    elif value == 7:\n",
    "        exp_data = exp_data[:71, :]\n",
    "    \n",
    "    \n",
    "    # Initial temperature\n",
    "    l_exp_info[i_exp-1, 0] = exp_data[0, 1]\n",
    "\n",
    "    exp_data = tf.constant(exp_data, dtype=tf.float32)\n",
    "\n",
    "    l_exp_data.append(exp_data)\n",
    "\n",
    "\n",
    "\n",
    "l_exp_info[:, 1] = np.loadtxt(\"exp_data/beta.txt\")\n",
    "l_exp_info[:, 2] = np.log(np.loadtxt(\"exp_data/ocen.txt\")+llb)\n",
    "\n",
    "l_exp_info = tf.constant(l_exp_info, dtype=tf.float32)"
   ]
  },
  {
   "cell_type": "markdown",
   "metadata": {},
   "source": [
    "# 初始化p矩阵"
   ]
  },
  {
   "cell_type": "code",
   "execution_count": 8,
   "metadata": {},
   "outputs": [],
   "source": [
    "p = np.random.randn(npara) * 1.e-2\n",
    "p[:nr] += 0.8 # w_b\n",
    "# nr~nr*(ns+1) vij\n",
    "p[nr*(ns+1):nr*(ns+2)] += 0.8 # w_out\n",
    "p[nr*(ns+2):nr*(ns+4)] += 0.1 # w_b | w_Ea\n",
    "p[-1] = 0.1 # slope\n",
    "\n",
    "p = tf.Variable(p, dtype=tf.float32)"
   ]
  },
  {
   "cell_type": "markdown",
   "metadata": {},
   "source": [
    "# 定义CRNN方程"
   ]
  },
  {
   "cell_type": "markdown",
   "metadata": {},
   "source": [
    "## 整理P矩阵\n",
    "\n",
    "> 只能使用TensorFlow内部的张量操作，否则无法获得梯度。"
   ]
  },
  {
   "cell_type": "code",
   "execution_count": 9,
   "metadata": {},
   "outputs": [],
   "source": [
    "@tf.function\n",
    "def p2vec(p):\n",
    "    slope = p[-1] * 1.e1\n",
    "    \n",
    "    w_b = p[:nr] * (slope * 10.0)\n",
    "    w_b = tf.clip_by_value(w_b, clip_value_min=0., clip_value_max=50.)\n",
    "    \n",
    "    # julia 与 tf的reshape函数实现不同\n",
    "    w_out = tf.reshape(p[nr:nr*(ns+1)],shape=(nr,ns))\n",
    "    w_out = tf.transpose(w_out)\n",
    "\n",
    "    temp1 = tf.clip_by_value(w_out[0:1, :], -3., 0.)\n",
    "    temp2 = tf.clip_by_value(tf.abs(w_out[-1:, :]), 0., 3.)\n",
    "    w_out = tf.concat([temp1, w_out[1:-1], temp2], axis=0)\n",
    "\n",
    "    # 此段省略\n",
    "    # julia原文：\n",
    "    # if p_cutoff > 0.0\n",
    "    #     w_out[findall(abs.(w_out) .< p_cutoff)] .= 0.0\n",
    "    # end\n",
    "\n",
    "    temp3 = -1*(tf.reduce_sum(w_out[:-2,:], 0) + w_out[-1:, :])\n",
    "    temp3 = tf.reshape(temp3, shape=(1,nr))\n",
    "    \n",
    "    w_out = tf.concat([w_out[:-2,:], temp3, w_out[-1:,:]], axis=0)\n",
    "\n",
    "    w_in_Ea = tf.abs(p[nr*(ns+1):nr*(ns+2)]) * slope * 100.\n",
    "    w_in_Ea = tf.clip_by_value(w_in_Ea, 0., 300.)\n",
    "    w_in_Ea = tf.reshape(w_in_Ea, shape=(1,8))\n",
    "\n",
    "    w_in_b = tf.abs(p[nr*(ns+2):nr*(ns+3)])\n",
    "    w_in_b = tf.reshape(w_in_b, shape=(1,8))\n",
    "\n",
    "    w_in_ocen = tf.abs(p[nr*(ns+3):nr*(ns+4)])\n",
    "    w_in_ocen = tf.clip_by_value(w_in_ocen, 0., 1.5)\n",
    "    w_in_ocen = tf.reshape(w_in_ocen, shape=(1,8))\n",
    "\n",
    "    # 此段省略\n",
    "    # julia原文：\n",
    "    # if p_cutoff > 0:\n",
    "    #     w_in_ocean[abs(w_in_ocean)<p_cutoff] = 0.0\n",
    "    \n",
    "    w_in = tf.concat([\n",
    "        tf.clip_by_value(w_out*(-1),0.,4.),\n",
    "        w_in_Ea,\n",
    "        w_in_b,\n",
    "        w_in_ocen\n",
    "    ], 0)\n",
    "\n",
    "    return w_in, w_b, w_out"
   ]
  },
  {
   "cell_type": "code",
   "execution_count": 10,
   "metadata": {},
   "outputs": [],
   "source": [
    "# 测试p\n",
    "p_test = tf.constant(np.loadtxt(\"p.txt\"), dtype=tf.float32)"
   ]
  },
  {
   "cell_type": "markdown",
   "metadata": {},
   "source": [
    "## 定义CRNN结构"
   ]
  },
  {
   "cell_type": "code",
   "execution_count": 18,
   "metadata": {},
   "outputs": [],
   "source": [
    "#@tf.function\n",
    "#def getsampletemp(t, T0, beta):\n",
    "#    t = tf.dtypes.cast(t, tf.float32)\n",
    "#\n",
    "#    T1 = T0 + t * (beta/60.0)\n",
    "#    HR = tf.constant(40.0/60.0, dtype=tf.float32)\n",
    "#    T2 = beta + 273.0\n",
    "#    \n",
    "#    temp1 = beta + 273.0 + HR * (t - 999.0*60.0)\n",
    "#    temp2 = tf.constant(370.0+273.0, dtype=tf.float32)\n",
    "#    T3 = tf.cond(tf.greater(temp1, temp2), lambda:temp2, lambda:temp1)\n",
    "#\n",
    "#    temp3 = 370.0+273.0 + HR * (t-1059.0*60.0)\n",
    "#    temp4 = tf.constant(500.0+273.0, dtype=tf.float32)\n",
    "#    T4 = tf.cond(tf.greater(temp3, temp4), lambda:temp4, lambda:temp3)\n",
    "#    \n",
    "#    T_branch1 = tf.cond(tf.greater(t, 1059. * 60.), lambda: T4, lambda: T3)\n",
    "#    T_branch2 = tf.cond(tf.greater(t, 999. * 60.), lambda: T_branch1, lambda:T2)\n",
    "#    T = tf.cond(tf.greater(beta, 100), lambda: T_branch2, lambda: T1)\n",
    "\n",
    "#    return tf.reshape(T,shape=(1,1))"
   ]
  },
  {
   "cell_type": "code",
   "execution_count": 30,
   "metadata": {},
   "outputs": [],
   "source": [
    "global T0\n",
    "global beta\n",
    "global ocen\n",
    "#global l_exp_info\n",
    "\n",
    "#@tf.function\n",
    "def crnn(t, u):\n",
    "    logX = tf.dtypes.cast(tf.math.log(tf.reshape(tf.clip_by_value(u, lb, 10.), shape=(4,1))),tf.float32)\n",
    "    \n",
    "    # getsampletemp moved to here\n",
    "\n",
    "    T1 = T0 + t * (beta/60.0)\n",
    "    HR = tf.constant(40.0/60.0, dtype=tf.float32)\n",
    "    T2 = beta + 273.0\n",
    "    \n",
    "    temp1 = beta + 273.0 + HR * (t - 999.0*60.0)\n",
    "    temp2 = tf.constant(370.0+273.0, dtype=tf.float32)\n",
    "    T3 = tf.cond(tf.greater(temp1, temp2), lambda:temp2, lambda:temp1)\n",
    "\n",
    "    temp3 = 370.0+273.0 + HR * (t-1059.0*60.0)\n",
    "    temp4 = tf.constant(500.0+273.0, dtype=tf.float32)\n",
    "    T4 = tf.cond(tf.greater(temp3, temp4), lambda:temp4, lambda:temp3)\n",
    "    \n",
    "    T_branch1 = tf.cond(tf.greater(t, 1059. * 60.), lambda: T4, lambda: T3)\n",
    "    T_branch2 = tf.cond(tf.greater(t, 999. * 60.), lambda: T_branch1, lambda:T2)\n",
    "    T = tf.cond(tf.greater(beta, 100), lambda: T_branch2, lambda: T1)\n",
    "\n",
    "    T = tf.reshape(T, shape=(1,1))\n",
    "    ####################################\n",
    "\n",
    "    \n",
    "    #global p\n",
    "    w_in, w_b, w_out = p2vec(p)\n",
    "    w_in_X = tf.matmul(tf.transpose(w_in), tf.concat([logX, R/T, tf.math.log(T), ocen],0))\n",
    "    du_dt = tf.matmul(w_out, tf.exp(tf.reshape(w_in_X, shape=(nr,1))+tf.reshape(w_b, shape=(nr,1))))\n",
    "    return du_dt\n",
    "\n",
    "u0 = np.zeros(ns)\n",
    "u0[0] = 1\n",
    "u0 = tf.constant(u0, shape=(ns,),dtype=tf.float32)\n",
    "\n",
    "@tf.function\n",
    "def pred_n_ode(p, i_exp, exp_data):\n",
    "    global T0\n",
    "    global beta\n",
    "    global ocen\n",
    "    T0 = l_exp_info[i_exp-1:i_exp, 0:1]\n",
    "    beta = l_exp_info[i_exp-1:i_exp, 1:2]\n",
    "    ocen = l_exp_info[i_exp-1:i_exp, 2:]\n",
    "    \n",
    "    ts = exp_data[:, 0]\n",
    "    \n",
    "    tspan = [ts[0],ts[-1]]\n",
    "\n",
    "    solution = tf.function(lambda: tfp.math.ode.BDF().solve(\n",
    "        crnn,\n",
    "        tspan[0],#t_init\n",
    "        u0,\n",
    "        solution_times=ts\n",
    "    ), autograph=True)()\n",
    "    return solution.states\n"
   ]
  },
  {
   "cell_type": "code",
   "execution_count": 22,
   "metadata": {},
   "outputs": [],
   "source": [
    "u_test = pred_n_ode(p_test, 1, exp_data)"
   ]
  },
  {
   "cell_type": "code",
   "execution_count": 31,
   "metadata": {},
   "outputs": [],
   "source": [
    "# pred_n_ode测试\n",
    "p_test = tf.Variable(p_test, dtype=tf.float32)\n",
    "with tf.GradientTape() as tape:\n",
    "    tape.watch(p_test)\n",
    "    pred_test = pred_n_ode(p_test, 1, exp_data) \n",
    "\n",
    "grad = tape.gradient(pred_test, p_test)    \n"
   ]
  },
  {
   "cell_type": "code",
   "execution_count": 32,
   "metadata": {},
   "outputs": [
    {
     "name": "stdout",
     "output_type": "stream",
     "text": [
      "None\n"
     ]
    }
   ],
   "source": [
    "print(grad)"
   ]
  },
  {
   "cell_type": "markdown",
   "metadata": {},
   "source": [
    "# 定义损失函数"
   ]
  },
  {
   "cell_type": "code",
   "execution_count": 33,
   "metadata": {},
   "outputs": [],
   "source": [
    "@tf.function\n",
    "def loss_n_ode(p, i_exp):\n",
    "    global ocen\n",
    "    exp_data = l_exp_data[i_exp-1]\n",
    "    pred = pred_n_ode(p, i_exp, exp_data)\n",
    "    \n",
    "    masslist = tf.reduce_sum(tf.clip_by_value(pred[:-1,:], 0, 1e3),axis=0)\n",
    "    gaslist = tf.clip_by_value(pred[-1:,:], 0, 1e3)\n",
    "\n",
    "    loss = tf.keras.losses.MAE(masslist, exp_data[:len(masslist),2])\n",
    "    \n",
    "    loss = tf.cond(tf.greater(ocen, 1000.0), lambda: loss, lambda:loss + tf.keras.losses.MAE(gaslist, (1-exp_data[:len(masslist),2])))\n",
    "    \n",
    "    return loss"
   ]
  },
  {
   "cell_type": "code",
   "execution_count": 34,
   "metadata": {},
   "outputs": [
    {
     "ename": "InaccessibleTensorError",
     "evalue": "in user code:\n\n    File \"<ipython-input-33-6a68311360d6>\", line 12, in loss_n_ode  *\n        loss = tf.cond(tf.greater(ocen, 1000.0), lambda: loss, lambda:loss + tf.keras.losses.MAE(gaslist, (1-exp_data[:len(masslist),2])))\n\n    InaccessibleTensorError: <tf.Tensor 'strided_slice_2:0' shape=(1, 1) dtype=float32> is out of scope and cannot be used here. Use return values, explicit Python locals or TensorFlow collections to access it.\n    Please see https://www.tensorflow.org/guide/function#all_outputs_of_a_tffunction_must_be_return_values for more information.\n    \n    <tf.Tensor 'strided_slice_2:0' shape=(1, 1) dtype=float32> was defined here:\n        File \"c:\\Program Files\\Python37\\lib\\runpy.py\", line 193, in _run_module_as_main\n          \"__main__\", mod_spec)\n        File \"c:\\Program Files\\Python37\\lib\\runpy.py\", line 85, in _run_code\n          exec(code, run_globals)\n        File \"C:\\Users\\marcl\\AppData\\Roaming\\Python\\Python37\\site-packages\\ipykernel_launcher.py\", line 16, in <module>\n          app.launch_new_instance()\n        File \"C:\\Users\\marcl\\AppData\\Roaming\\Python\\Python37\\site-packages\\traitlets\\config\\application.py\", line 664, in launch_instance\n          app.start()\n        File \"C:\\Users\\marcl\\AppData\\Roaming\\Python\\Python37\\site-packages\\ipykernel\\kernelapp.py\", line 612, in start\n          self.io_loop.start()\n        File \"C:\\Users\\marcl\\AppData\\Roaming\\Python\\Python37\\site-packages\\tornado\\platform\\asyncio.py\", line 149, in start\n          self.asyncio_loop.run_forever()\n        File \"c:\\Program Files\\Python37\\lib\\asyncio\\base_events.py\", line 541, in run_forever\n          self._run_once()\n        File \"c:\\Program Files\\Python37\\lib\\asyncio\\base_events.py\", line 1786, in _run_once\n          handle._run()\n        File \"c:\\Program Files\\Python37\\lib\\asyncio\\events.py\", line 88, in _run\n          self._context.run(self._callback, *self._args)\n        File \"C:\\Users\\marcl\\AppData\\Roaming\\Python\\Python37\\site-packages\\tornado\\ioloop.py\", line 690, in <lambda>\n          lambda f: self._run_callback(functools.partial(callback, future))\n        File \"C:\\Users\\marcl\\AppData\\Roaming\\Python\\Python37\\site-packages\\tornado\\ioloop.py\", line 743, in _run_callback\n          ret = callback()\n        File \"C:\\Users\\marcl\\AppData\\Roaming\\Python\\Python37\\site-packages\\tornado\\gen.py\", line 787, in inner\n          self.run()\n        File \"C:\\Users\\marcl\\AppData\\Roaming\\Python\\Python37\\site-packages\\tornado\\gen.py\", line 748, in run\n          yielded = self.gen.send(value)\n        File \"C:\\Users\\marcl\\AppData\\Roaming\\Python\\Python37\\site-packages\\ipykernel\\kernelbase.py\", line 365, in process_one\n          yield gen.maybe_future(dispatch(*args))\n        File \"C:\\Users\\marcl\\AppData\\Roaming\\Python\\Python37\\site-packages\\tornado\\gen.py\", line 209, in wrapper\n          yielded = next(result)\n        File \"C:\\Users\\marcl\\AppData\\Roaming\\Python\\Python37\\site-packages\\ipykernel\\kernelbase.py\", line 268, in dispatch_shell\n          yield gen.maybe_future(handler(stream, idents, msg))\n        File \"C:\\Users\\marcl\\AppData\\Roaming\\Python\\Python37\\site-packages\\tornado\\gen.py\", line 209, in wrapper\n          yielded = next(result)\n        File \"C:\\Users\\marcl\\AppData\\Roaming\\Python\\Python37\\site-packages\\ipykernel\\kernelbase.py\", line 545, in execute_request\n          user_expressions, allow_stdin,\n        File \"C:\\Users\\marcl\\AppData\\Roaming\\Python\\Python37\\site-packages\\tornado\\gen.py\", line 209, in wrapper\n          yielded = next(result)\n        File \"C:\\Users\\marcl\\AppData\\Roaming\\Python\\Python37\\site-packages\\ipykernel\\ipkernel.py\", line 306, in do_execute\n          res = shell.run_cell(code, store_history=store_history, silent=silent)\n        File \"C:\\Users\\marcl\\AppData\\Roaming\\Python\\Python37\\site-packages\\ipykernel\\zmqshell.py\", line 536, in run_cell\n          return super(ZMQInteractiveShell, self).run_cell(*args, **kwargs)\n        File \"C:\\Users\\marcl\\AppData\\Roaming\\Python\\Python37\\site-packages\\IPython\\core\\interactiveshell.py\", line 2877, in run_cell\n          raw_cell, store_history, silent, shell_futures)\n        File \"C:\\Users\\marcl\\AppData\\Roaming\\Python\\Python37\\site-packages\\IPython\\core\\interactiveshell.py\", line 2922, in _run_cell\n          return runner(coro)\n        File \"C:\\Users\\marcl\\AppData\\Roaming\\Python\\Python37\\site-packages\\IPython\\core\\async_helpers.py\", line 68, in _pseudo_sync_runner\n          coro.send(None)\n        File \"C:\\Users\\marcl\\AppData\\Roaming\\Python\\Python37\\site-packages\\IPython\\core\\interactiveshell.py\", line 3146, in run_cell_async\n          interactivity=interactivity, compiler=compiler, result=result)\n        File \"C:\\Users\\marcl\\AppData\\Roaming\\Python\\Python37\\site-packages\\IPython\\core\\interactiveshell.py\", line 3337, in run_ast_nodes\n          if (await self.run_code(code, result,  async_=asy)):\n        File \"C:\\Users\\marcl\\AppData\\Roaming\\Python\\Python37\\site-packages\\IPython\\core\\interactiveshell.py\", line 3417, in run_code\n          exec(code_obj, self.user_global_ns, self.user_ns)\n        File \"<ipython-input-34-2990ea7f048f>\", line 1, in <module>\n          loss_n_ode(p_test,1)\n        File \"<ipython-input-33-6a68311360d6>\", line 5, in loss_n_ode\n          pred = pred_n_ode(p, i_exp, exp_data)\n        File \"<ipython-input-30-b126e1695535>\", line 49, in pred_n_ode\n          ocen = l_exp_info[i_exp-1:i_exp, 2:]\n    \n    The tensor <tf.Tensor 'strided_slice_2:0' shape=(1, 1) dtype=float32> cannot be accessed from FuncGraph(name=loss_n_ode, id=3063895012424), because it was defined in FuncGraph(name=pred_n_ode, id=3062501341576), which is out of scope.\n",
     "output_type": "error",
     "traceback": [
      "\u001b[1;31m---------------------------------------------------------------------------\u001b[0m",
      "\u001b[1;31mInaccessibleTensorError\u001b[0m                   Traceback (most recent call last)",
      "\u001b[1;32m<ipython-input-34-2990ea7f048f>\u001b[0m in \u001b[0;36m<module>\u001b[1;34m\u001b[0m\n\u001b[1;32m----> 1\u001b[1;33m \u001b[0mloss_n_ode\u001b[0m\u001b[1;33m(\u001b[0m\u001b[0mp_test\u001b[0m\u001b[1;33m,\u001b[0m\u001b[1;36m1\u001b[0m\u001b[1;33m)\u001b[0m\u001b[1;33m\u001b[0m\u001b[1;33m\u001b[0m\u001b[0m\n\u001b[0m",
      "\u001b[1;32m~\\AppData\\Roaming\\Python\\Python37\\site-packages\\tensorflow\\python\\util\\traceback_utils.py\u001b[0m in \u001b[0;36merror_handler\u001b[1;34m(*args, **kwargs)\u001b[0m\n\u001b[0;32m    151\u001b[0m     \u001b[1;32mexcept\u001b[0m \u001b[0mException\u001b[0m \u001b[1;32mas\u001b[0m \u001b[0me\u001b[0m\u001b[1;33m:\u001b[0m\u001b[1;33m\u001b[0m\u001b[1;33m\u001b[0m\u001b[0m\n\u001b[0;32m    152\u001b[0m       \u001b[0mfiltered_tb\u001b[0m \u001b[1;33m=\u001b[0m \u001b[0m_process_traceback_frames\u001b[0m\u001b[1;33m(\u001b[0m\u001b[0me\u001b[0m\u001b[1;33m.\u001b[0m\u001b[0m__traceback__\u001b[0m\u001b[1;33m)\u001b[0m\u001b[1;33m\u001b[0m\u001b[1;33m\u001b[0m\u001b[0m\n\u001b[1;32m--> 153\u001b[1;33m       \u001b[1;32mraise\u001b[0m \u001b[0me\u001b[0m\u001b[1;33m.\u001b[0m\u001b[0mwith_traceback\u001b[0m\u001b[1;33m(\u001b[0m\u001b[0mfiltered_tb\u001b[0m\u001b[1;33m)\u001b[0m \u001b[1;32mfrom\u001b[0m \u001b[1;32mNone\u001b[0m\u001b[1;33m\u001b[0m\u001b[1;33m\u001b[0m\u001b[0m\n\u001b[0m\u001b[0;32m    154\u001b[0m     \u001b[1;32mfinally\u001b[0m\u001b[1;33m:\u001b[0m\u001b[1;33m\u001b[0m\u001b[1;33m\u001b[0m\u001b[0m\n\u001b[0;32m    155\u001b[0m       \u001b[1;32mdel\u001b[0m \u001b[0mfiltered_tb\u001b[0m\u001b[1;33m\u001b[0m\u001b[1;33m\u001b[0m\u001b[0m\n",
      "\u001b[1;32m~\\AppData\\Roaming\\Python\\Python37\\site-packages\\tensorflow\\python\\framework\\func_graph.py\u001b[0m in \u001b[0;36mautograph_handler\u001b[1;34m(*args, **kwargs)\u001b[0m\n\u001b[0;32m   1145\u001b[0m           \u001b[1;32mexcept\u001b[0m \u001b[0mException\u001b[0m \u001b[1;32mas\u001b[0m \u001b[0me\u001b[0m\u001b[1;33m:\u001b[0m  \u001b[1;31m# pylint:disable=broad-except\u001b[0m\u001b[1;33m\u001b[0m\u001b[1;33m\u001b[0m\u001b[0m\n\u001b[0;32m   1146\u001b[0m             \u001b[1;32mif\u001b[0m \u001b[0mhasattr\u001b[0m\u001b[1;33m(\u001b[0m\u001b[0me\u001b[0m\u001b[1;33m,\u001b[0m \u001b[1;34m\"ag_error_metadata\"\u001b[0m\u001b[1;33m)\u001b[0m\u001b[1;33m:\u001b[0m\u001b[1;33m\u001b[0m\u001b[1;33m\u001b[0m\u001b[0m\n\u001b[1;32m-> 1147\u001b[1;33m               \u001b[1;32mraise\u001b[0m \u001b[0me\u001b[0m\u001b[1;33m.\u001b[0m\u001b[0mag_error_metadata\u001b[0m\u001b[1;33m.\u001b[0m\u001b[0mto_exception\u001b[0m\u001b[1;33m(\u001b[0m\u001b[0me\u001b[0m\u001b[1;33m)\u001b[0m\u001b[1;33m\u001b[0m\u001b[1;33m\u001b[0m\u001b[0m\n\u001b[0m\u001b[0;32m   1148\u001b[0m             \u001b[1;32melse\u001b[0m\u001b[1;33m:\u001b[0m\u001b[1;33m\u001b[0m\u001b[1;33m\u001b[0m\u001b[0m\n\u001b[0;32m   1149\u001b[0m               \u001b[1;32mraise\u001b[0m\u001b[1;33m\u001b[0m\u001b[1;33m\u001b[0m\u001b[0m\n",
      "\u001b[1;31mInaccessibleTensorError\u001b[0m: in user code:\n\n    File \"<ipython-input-33-6a68311360d6>\", line 12, in loss_n_ode  *\n        loss = tf.cond(tf.greater(ocen, 1000.0), lambda: loss, lambda:loss + tf.keras.losses.MAE(gaslist, (1-exp_data[:len(masslist),2])))\n\n    InaccessibleTensorError: <tf.Tensor 'strided_slice_2:0' shape=(1, 1) dtype=float32> is out of scope and cannot be used here. Use return values, explicit Python locals or TensorFlow collections to access it.\n    Please see https://www.tensorflow.org/guide/function#all_outputs_of_a_tffunction_must_be_return_values for more information.\n    \n    <tf.Tensor 'strided_slice_2:0' shape=(1, 1) dtype=float32> was defined here:\n        File \"c:\\Program Files\\Python37\\lib\\runpy.py\", line 193, in _run_module_as_main\n          \"__main__\", mod_spec)\n        File \"c:\\Program Files\\Python37\\lib\\runpy.py\", line 85, in _run_code\n          exec(code, run_globals)\n        File \"C:\\Users\\marcl\\AppData\\Roaming\\Python\\Python37\\site-packages\\ipykernel_launcher.py\", line 16, in <module>\n          app.launch_new_instance()\n        File \"C:\\Users\\marcl\\AppData\\Roaming\\Python\\Python37\\site-packages\\traitlets\\config\\application.py\", line 664, in launch_instance\n          app.start()\n        File \"C:\\Users\\marcl\\AppData\\Roaming\\Python\\Python37\\site-packages\\ipykernel\\kernelapp.py\", line 612, in start\n          self.io_loop.start()\n        File \"C:\\Users\\marcl\\AppData\\Roaming\\Python\\Python37\\site-packages\\tornado\\platform\\asyncio.py\", line 149, in start\n          self.asyncio_loop.run_forever()\n        File \"c:\\Program Files\\Python37\\lib\\asyncio\\base_events.py\", line 541, in run_forever\n          self._run_once()\n        File \"c:\\Program Files\\Python37\\lib\\asyncio\\base_events.py\", line 1786, in _run_once\n          handle._run()\n        File \"c:\\Program Files\\Python37\\lib\\asyncio\\events.py\", line 88, in _run\n          self._context.run(self._callback, *self._args)\n        File \"C:\\Users\\marcl\\AppData\\Roaming\\Python\\Python37\\site-packages\\tornado\\ioloop.py\", line 690, in <lambda>\n          lambda f: self._run_callback(functools.partial(callback, future))\n        File \"C:\\Users\\marcl\\AppData\\Roaming\\Python\\Python37\\site-packages\\tornado\\ioloop.py\", line 743, in _run_callback\n          ret = callback()\n        File \"C:\\Users\\marcl\\AppData\\Roaming\\Python\\Python37\\site-packages\\tornado\\gen.py\", line 787, in inner\n          self.run()\n        File \"C:\\Users\\marcl\\AppData\\Roaming\\Python\\Python37\\site-packages\\tornado\\gen.py\", line 748, in run\n          yielded = self.gen.send(value)\n        File \"C:\\Users\\marcl\\AppData\\Roaming\\Python\\Python37\\site-packages\\ipykernel\\kernelbase.py\", line 365, in process_one\n          yield gen.maybe_future(dispatch(*args))\n        File \"C:\\Users\\marcl\\AppData\\Roaming\\Python\\Python37\\site-packages\\tornado\\gen.py\", line 209, in wrapper\n          yielded = next(result)\n        File \"C:\\Users\\marcl\\AppData\\Roaming\\Python\\Python37\\site-packages\\ipykernel\\kernelbase.py\", line 268, in dispatch_shell\n          yield gen.maybe_future(handler(stream, idents, msg))\n        File \"C:\\Users\\marcl\\AppData\\Roaming\\Python\\Python37\\site-packages\\tornado\\gen.py\", line 209, in wrapper\n          yielded = next(result)\n        File \"C:\\Users\\marcl\\AppData\\Roaming\\Python\\Python37\\site-packages\\ipykernel\\kernelbase.py\", line 545, in execute_request\n          user_expressions, allow_stdin,\n        File \"C:\\Users\\marcl\\AppData\\Roaming\\Python\\Python37\\site-packages\\tornado\\gen.py\", line 209, in wrapper\n          yielded = next(result)\n        File \"C:\\Users\\marcl\\AppData\\Roaming\\Python\\Python37\\site-packages\\ipykernel\\ipkernel.py\", line 306, in do_execute\n          res = shell.run_cell(code, store_history=store_history, silent=silent)\n        File \"C:\\Users\\marcl\\AppData\\Roaming\\Python\\Python37\\site-packages\\ipykernel\\zmqshell.py\", line 536, in run_cell\n          return super(ZMQInteractiveShell, self).run_cell(*args, **kwargs)\n        File \"C:\\Users\\marcl\\AppData\\Roaming\\Python\\Python37\\site-packages\\IPython\\core\\interactiveshell.py\", line 2877, in run_cell\n          raw_cell, store_history, silent, shell_futures)\n        File \"C:\\Users\\marcl\\AppData\\Roaming\\Python\\Python37\\site-packages\\IPython\\core\\interactiveshell.py\", line 2922, in _run_cell\n          return runner(coro)\n        File \"C:\\Users\\marcl\\AppData\\Roaming\\Python\\Python37\\site-packages\\IPython\\core\\async_helpers.py\", line 68, in _pseudo_sync_runner\n          coro.send(None)\n        File \"C:\\Users\\marcl\\AppData\\Roaming\\Python\\Python37\\site-packages\\IPython\\core\\interactiveshell.py\", line 3146, in run_cell_async\n          interactivity=interactivity, compiler=compiler, result=result)\n        File \"C:\\Users\\marcl\\AppData\\Roaming\\Python\\Python37\\site-packages\\IPython\\core\\interactiveshell.py\", line 3337, in run_ast_nodes\n          if (await self.run_code(code, result,  async_=asy)):\n        File \"C:\\Users\\marcl\\AppData\\Roaming\\Python\\Python37\\site-packages\\IPython\\core\\interactiveshell.py\", line 3417, in run_code\n          exec(code_obj, self.user_global_ns, self.user_ns)\n        File \"<ipython-input-34-2990ea7f048f>\", line 1, in <module>\n          loss_n_ode(p_test,1)\n        File \"<ipython-input-33-6a68311360d6>\", line 5, in loss_n_ode\n          pred = pred_n_ode(p, i_exp, exp_data)\n        File \"<ipython-input-30-b126e1695535>\", line 49, in pred_n_ode\n          ocen = l_exp_info[i_exp-1:i_exp, 2:]\n    \n    The tensor <tf.Tensor 'strided_slice_2:0' shape=(1, 1) dtype=float32> cannot be accessed from FuncGraph(name=loss_n_ode, id=3063895012424), because it was defined in FuncGraph(name=pred_n_ode, id=3062501341576), which is out of scope.\n"
     ]
    }
   ],
   "source": [
    "loss_n_ode(p_test,1)"
   ]
  },
  {
   "cell_type": "markdown",
   "metadata": {},
   "source": [
    "# 训练过程"
   ]
  },
  {
   "cell_type": "code",
   "execution_count": null,
   "metadata": {},
   "outputs": [],
   "source": [
    "opt = ...\n",
    "for epoch in range(n_epoch):\n",
    "    print(\"Start epoch %d\" %(epoch))\n",
    "    \n",
    "    for i_exp in (shuffled index of experiments):\n",
    "        if i_exp in l_val:\n",
    "            continue\n",
    "\n",
    "        with tf.GradientTape() as tape:\n",
    "            tape.watch(p)\n",
    "            loss = loss_n_ode(p, i_exp)\n",
    "        \n",
    "        grad = tape.gradient(loss, p)\n",
    "        opt.apply_gradients(zip([grad],[p]))\n",
    "    \n"
   ]
  },
  {
   "cell_type": "code",
   "execution_count": null,
   "metadata": {},
   "outputs": [],
   "source": [
    "# 这个不行\n",
    "@tf.function\n",
    "def 波波人(t, u):\n",
    "    if t>10.0:\n",
    "        du_dt = u*t\n",
    "    else:\n",
    "        du_dt = 2*u*t\n",
    "    return du_dt\n",
    "\n",
    "# 这个可以\n",
    "@tf.function\n",
    "def 波波人(t, u):\n",
    "    du_dt = tf.cond(tf.greater(t, 10.0), lambda: u*t, lambda:2*u*t)\n",
    "    return du_dt"
   ]
  }
 ],
 "metadata": {
  "interpreter": {
   "hash": "5109d816b82be14675a6b11f8e0f0d2e80f029176ed3710d54e125caa8520dfd"
  },
  "kernelspec": {
   "display_name": "Python 3.7.7 64-bit",
   "language": "python",
   "name": "python3"
  },
  "language_info": {
   "codemirror_mode": {
    "name": "ipython",
    "version": 3
   },
   "file_extension": ".py",
   "mimetype": "text/x-python",
   "name": "python",
   "nbconvert_exporter": "python",
   "pygments_lexer": "ipython3",
   "version": "3.7.7"
  },
  "orig_nbformat": 4
 },
 "nbformat": 4,
 "nbformat_minor": 2
}
