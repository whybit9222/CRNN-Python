{
 "cells": [
  {
   "cell_type": "code",
   "execution_count": 1,
   "metadata": {},
   "outputs": [],
   "source": [
    "import tensorflow as tf\n",
    "import numpy as np\n",
    "import tensorflow_probability as tfp\n",
    "import math as m"
   ]
  },
  {
   "cell_type": "code",
   "execution_count": 32,
   "metadata": {},
   "outputs": [],
   "source": [
    "# 待求解方程：du/dt = u * cos (\\theta t)，0 <= t <= 2 * pi, u(0)=2\n",
    "# 目标数据由du/dt = u * cos (2*t)生成，可求得其解析解u=2*exp(0.5*sin(2t))后加随机噪声，也可不加\n",
    "theta = tf.Variable(1., dtype=tf.float64) \n",
    "def ode_func(t, u):\n",
    "    global theta\n",
    "    return u*tf.math.cos(theta*t)\n",
    "#t_init, t_end = tf.constant(0.,tf.float64, shape=(1,)), tf.constant(m.pi,tf.float64,shape=(1,))\n",
    "t_init, t_end = 0., m.pi\n",
    "u_init = tf.constant(2.0,dtype=tf.float64,shape=1)\n"
   ]
  },
  {
   "cell_type": "code",
   "execution_count": 3,
   "metadata": {},
   "outputs": [],
   "source": [
    "# 生成数据集\n",
    "t_exact = tf.constant(np.arange(t_init, t_end, step=(t_end-t_init)/50))\n",
    "correct_theta = tf.constant(2., dtype=tf.float64)\n",
    "u_exact = 2*tf.math.exp((1/correct_theta)*tf.math.sin(correct_theta*t_exact))"
   ]
  },
  {
   "cell_type": "code",
   "execution_count": 4,
   "metadata": {},
   "outputs": [],
   "source": [
    "import matplotlib.pyplot as plt\n",
    "import matplotlib.animation as animation"
   ]
  },
  {
   "cell_type": "code",
   "execution_count": 5,
   "metadata": {},
   "outputs": [],
   "source": [
    "\n",
    "plt.rc('text', usetex=True)\n",
    "plt.rc('font', family='serif')\n"
   ]
  },
  {
   "cell_type": "code",
   "execution_count": 6,
   "metadata": {},
   "outputs": [],
   "source": [
    "test_u = tf.function(lambda: tfp.math.ode.BDF().solve(ode_func, t_init, u_init, solution_times=t_exact), autograph=True)().states"
   ]
  },
  {
   "cell_type": "code",
   "execution_count": 33,
   "metadata": {},
   "outputs": [
    {
     "name": "stdout",
     "output_type": "stream",
     "text": [
      "Start epoch 0\n",
      "loss = 5.119039\n",
      "theta = 1.720667\n",
      "Start epoch 1\n",
      "loss = 0.126185\n",
      "theta = 1.749058\n",
      "Start epoch 2\n",
      "loss = 0.100831\n",
      "theta = 1.773877\n",
      "Start epoch 3\n",
      "loss = 0.081341\n",
      "theta = 1.795812\n",
      "Start epoch 4\n",
      "loss = 0.066054\n",
      "theta = 1.815349\n",
      "Start epoch 5\n",
      "loss = 0.053890\n",
      "theta = 1.832847\n",
      "Start epoch 6\n",
      "loss = 0.044108\n",
      "theta = 1.848584\n",
      "Start epoch 7\n",
      "loss = 0.036184\n",
      "theta = 1.862778\n",
      "Start epoch 8\n",
      "loss = 0.029729\n",
      "theta = 1.875607\n",
      "Start epoch 9\n",
      "loss = 0.024451\n",
      "theta = 1.887221\n",
      "Start epoch 10\n",
      "loss = 0.020122\n",
      "theta = 1.897745\n",
      "Start epoch 11\n",
      "loss = 0.016566\n",
      "theta = 1.907288\n",
      "Start epoch 12\n",
      "loss = 0.013641\n",
      "theta = 1.915946\n",
      "Start epoch 13\n",
      "loss = 0.011233\n",
      "theta = 1.923804\n",
      "Start epoch 14\n",
      "loss = 0.009249\n",
      "theta = 1.930936\n",
      "Start epoch 15\n",
      "loss = 0.007615\n",
      "theta = 1.937410\n",
      "Start epoch 16\n",
      "loss = 0.006268\n",
      "theta = 1.943286\n",
      "Start epoch 17\n",
      "loss = 0.005158\n",
      "theta = 1.948619\n",
      "Start epoch 18\n",
      "loss = 0.004244\n",
      "theta = 1.953459\n",
      "Start epoch 19\n",
      "loss = 0.003491\n",
      "theta = 1.957852\n",
      "Start epoch 20\n",
      "loss = 0.002871\n",
      "theta = 1.961837\n",
      "Start epoch 21\n",
      "loss = 0.002361\n",
      "theta = 1.965452\n",
      "Start epoch 22\n",
      "loss = 0.001941\n",
      "theta = 1.968732\n",
      "Start epoch 23\n",
      "loss = 0.001596\n",
      "theta = 1.971706\n",
      "Start epoch 24\n",
      "loss = 0.001311\n",
      "theta = 1.974403\n",
      "Start epoch 25\n",
      "loss = 0.001078\n",
      "theta = 1.976849\n",
      "Start epoch 26\n",
      "loss = 0.000885\n",
      "theta = 1.979066\n",
      "Start epoch 27\n",
      "loss = 0.000728\n",
      "theta = 1.981076\n",
      "Start epoch 28\n",
      "loss = 0.000598\n",
      "theta = 1.982898\n",
      "Start epoch 29\n",
      "loss = 0.000491\n",
      "theta = 1.984550\n"
     ]
    },
    {
     "data": {
      "image/png": "[encoded data removed]",
      "text/plain": [
       "<Figure size 432x288 with 1 Axes>"
      ]
     },
     "metadata": {
      "needs_background": "light"
     },
     "output_type": "display_data"
    }
   ],
   "source": [
    "n_epoches = 30\n",
    "optimizer = tf.keras.optimizers.SGD(learning_rate=0.03)\n",
    "fig, ax = plt.subplots()\n",
    "ims = []\n",
    "\n",
    "line, = ax.plot(t_exact, test_u, c='r')\n",
    "text = ax.text(1.5, 2.5, \"loss=NAN\")\n",
    "\n",
    "plt.plot(t_exact, u_exact, c='g')\n",
    "plt.text(1.0, 1.4, r\"Analytical solution: $u=2e^{\\frac{1}{2}sin(2t)}$\", horizontalalignment='center', fontsize=14)\n",
    "\n",
    "losses = []\n",
    "u_preds = []\n",
    "for epoch in range(n_epoches):\n",
    "    print(\"Start epoch %d\" %(epoch))\n",
    "    with tf.GradientTape() as tape:\n",
    "        tape.watch(theta)\n",
    "        u_pred = tf.function(lambda: tfp.math.ode.BDF().solve(ode_func, t_init, u_init, solution_times=t_exact), autograph=True)()\n",
    "        #u_pred = tfp.math.ode.BDF().solve(ode_func, t_init, u_init, solution_times=t_exact)\n",
    "        loss = tf.reduce_mean(tf.square(u_pred.states[:,0]-u_exact))\n",
    "    losses.append(float(loss))\n",
    "    u_preds.append(u_pred.states)\n",
    "    \n",
    "    grad = tape.gradient(loss, theta)\n",
    "    optimizer.apply_gradients(zip([grad], [theta]))\n",
    "    print(\"loss = %f\" %(loss))\n",
    "    print(\"theta = %f\" %(theta))\n",
    "\n",
    "for i in range(20):\n",
    "    u_preds.append(u_preds[-1])\n",
    "    losses.append(losses[-1])\n",
    "def update(i):\n",
    "    line.set_ydata(u_preds[i])\n",
    "    text.set_text(\"loss=%f\"%(float(losses[i])))\n",
    "    return line, text,\n",
    "ani = animation.FuncAnimation(fig, update, np.arange(0, 50), interval=50, repeat_delay=10000)\n",
    "ani.save(\"test.gif\", writer='pillow', dpi=800)\n",
    "\n",
    "    "
   ]
  }
 ],
 "metadata": {
  "interpreter": {
   "hash": "5109d816b82be14675a6b11f8e0f0d2e80f029176ed3710d54e125caa8520dfd"
  },
  "kernelspec": {
   "display_name": "Python 3.7.7 64-bit",
   "language": "python",
   "name": "python3"
  },
  "language_info": {
   "codemirror_mode": {
    "name": "ipython",
    "version": 3
   },
   "file_extension": ".py",
   "mimetype": "text/x-python",
   "name": "python",
   "nbconvert_exporter": "python",
   "pygments_lexer": "ipython3",
   "version": "3.7.7"
  },
  "orig_nbformat": 4
 },
 "nbformat": 4,
 "nbformat_minor": 2
}
