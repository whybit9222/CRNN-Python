{
 "cells": [
  {
   "cell_type": "code",
   "execution_count": 3,
   "metadata": {},
   "outputs": [],
   "source": [
    "from diffeqpy import de\n",
    "import numpy as np\n",
    "import time\n",
    "import tensorflow as tf"
   ]
  },
  {
   "cell_type": "markdown",
   "metadata": {},
   "source": [
    "# **初始化**"
   ]
  },
  {
   "cell_type": "code",
   "execution_count": 4,
   "metadata": {},
   "outputs": [],
   "source": [
    "import yaml\n",
    "\n",
    "lb = 1e-8\n",
    "n_epoch = 2500\n",
    "n_plot = 10\n",
    "grad_max = 1e2\n",
    "maxiters = 50000\n",
    "\n",
    "lr_max = 5e-3\n",
    "lr_min = 1e-5\n",
    "lr_decay = 0.2\n",
    "lr_decay_step = 500\n",
    "w_decay = 1e-8\n",
    "\n",
    "llb = lb\n",
    "p_cutoff = -1.0\n",
    "R = -1.0 / 8.314e-3\n",
    "\n",
    "l_exp = np.arange(1,15)\n",
    "n_exp = len(l_exp)\n",
    "\n",
    "l_train = []\n",
    "l_val = []\n",
    "for i in np.arange(0,n_exp):\n",
    "    j = l_exp[i]\n",
    "    if not (j in [2, 6, 9, 12]):\n",
    "        l_train.append(i+1)\n",
    "    else:\n",
    "        l_val.append(i+1)\n"
   ]
  },
  {
   "cell_type": "markdown",
   "metadata": {},
   "source": [
    "# **从文件读取实验数据**"
   ]
  },
  {
   "cell_type": "code",
   "execution_count": 5,
   "metadata": {},
   "outputs": [],
   "source": [
    "# load data\n",
    "import os\n",
    "\n",
    "\n",
    "# load [t, T, m] data from files\n",
    "def load_exp(filename):\n",
    "    exp_data = np.loadtxt(filename)\n",
    "\n",
    "    # 需要加一步去重\n",
    "    # julia:\n",
    "    # index = indexin(unique(exp_data[:, 1]), exp_data[:, 1])\n",
    "    # exp_data = exp_data[index, :]\n",
    "\n",
    "    exp_data[:, 2] = exp_data[:, 2] / max(exp_data[:, 2])\n",
    "    return exp_data\n",
    "\n",
    "l_exp_data = []\n",
    "l_exp_info = np.zeros((len(l_exp), 3))\n",
    "\n",
    "for i_exp, value in enumerate(l_exp):\n",
    "    filename = \"Biomass.jl-main\\\\exp_data\\\\expdata_no\" + str(value) + \".txt\"\n",
    "    exp_data = np.float64(load_exp(filename))\n",
    "    if value == 4:\n",
    "        exp_data = exp_data[0:60, :]\n",
    "    elif value == 5:\n",
    "        exp_data = exp_data[0:58, :]\n",
    "    elif value == 6:\n",
    "        exp_data = exp_data[0:60, :]\n",
    "    elif value == 7:\n",
    "        exp_data = exp_data[0:71, :]\n",
    "\n",
    "    l_exp_data.append(exp_data)\n",
    "    l_exp_info[i_exp-1, 0] = exp_data[0,1] # get temperature\n",
    "\n",
    "l_exp_info[:, 1] = np.loadtxt(\"Biomass.jl-main\\\\exp_data\\\\beta.txt\")[l_exp-1]\n",
    "l_exp_info[:, 2] = np.loadtxt(\"Biomass.jl-main\\\\exp_data\\\\ocen.txt\")[l_exp-1] + llb"
   ]
  },
  {
   "cell_type": "markdown",
   "metadata": {},
   "source": [
    "### 导入温度数据"
   ]
  },
  {
   "cell_type": "code",
   "execution_count": 87,
   "metadata": {},
   "outputs": [],
   "source": [
    "def getsampletemp(t, T0, beta):\n",
    "    \n",
    "    if beta<100:\n",
    "        T = T0 + beta / 60 * t\n",
    "    else:\n",
    "        tc = np.array([999.0, 1059.0]) * 60.0\n",
    "        Tc = np.array([beta, 370.0, 500.0]) + 273.0\n",
    "        HR = 40.0/60.0\n",
    "        if t <= tc[0]:\n",
    "            T = Tc[0]\n",
    "        elif t <= tc[1]:\n",
    "            T = min(Tc[0] + HR * (t-tc[0]), Tc[1])\n",
    "        else:\n",
    "            \n",
    "            T = min(Tc[1] + HR * (t-tc[1]), Tc[2])\n",
    "    return T"
   ]
  },
  {
   "cell_type": "markdown",
   "metadata": {},
   "source": [
    "# **定义p矩阵的内容**"
   ]
  },
  {
   "cell_type": "code",
   "execution_count": 7,
   "metadata": {},
   "outputs": [],
   "source": [
    "nr=8\n",
    "ns=4\n",
    "\n",
    "npara = nr * (ns + 4) + 1\n",
    "p = np.random.rand(npara) * 1.e-2\n",
    "p[0:nr] += 0.8  # w_b\n",
    "p[nr*(ns+1):nr*(ns+2)] += 0.8  # w_out\n",
    "p[nr*(ns+2):nr*(ns+4)] += 0.1  # w_b | w_Ea\n",
    "p[-1] = 0.1  # slope\n",
    "p_cutoff = -1"
   ]
  },
  {
   "cell_type": "markdown",
   "metadata": {},
   "source": [
    "### P矩阵格式化及显示"
   ]
  },
  {
   "cell_type": "code",
   "execution_count": 88,
   "metadata": {},
   "outputs": [],
   "source": [
    "def p2vec(p):\n",
    "#p: numpy array\n",
    "    p = np.array(p)\n",
    "    slope = p[-1] *1e1\n",
    "\n",
    "    # ln A\n",
    "    w_b = p[:nr].copy() * (slope * 10.0)\n",
    "    w_b = np.clip(w_b, 0, 50.0)\n",
    "    # W_out\n",
    "    w_out = np.reshape(p[nr:nr*(ns+1)].copy(), (nr, ns)).T\n",
    "    np.clip(w_out[0,:], -3.0, 0.0, w_out[0,:])\n",
    "    np.clip(np.abs(w_out[-1,:]), 0.0, 3.0, w_out[-1,:])\n",
    "\n",
    "    if p_cutoff > 0:\n",
    "        w_out[abs(w_out)<p_cutoff] = 0.0\n",
    "    w_out[ns-2, :] = -1 * (np.sum(w_out[0:ns-1, :], axis=0) + w_out[-1,:])\n",
    "    w_in_Ea = np.abs(p[nr*(ns+1):nr*(ns+2)]) * (slope * 100.0)\n",
    "    np.clip(w_in_Ea, 0.0, 300.0, w_in_Ea)\n",
    "\n",
    "    w_in_b = np.abs(p[nr*(ns+2):nr*(ns+3)])\n",
    "\n",
    "    w_in_ocean = np.abs(p[nr*(ns+3):nr*(ns+4)])\n",
    "    np.clip(w_in_ocean, 0.0, 1.5, w_in_ocean)\n",
    "\n",
    "    if p_cutoff > 0:\n",
    "        w_in_ocean[abs(w_in_ocean)<p_cutoff] = 0.0\n",
    "\n",
    "    w_in = np.vstack((np.clip(w_out*(-1), 0.0, 4.0), w_in_Ea.T, w_in_b.T, w_in_ocean.T))\n",
    "    return w_in, w_b, w_out"
   ]
  },
  {
   "cell_type": "code",
   "execution_count": 9,
   "metadata": {},
   "outputs": [],
   "source": [
    "def display_p(p):\n",
    "    w_in, w_b, w_out = p2vec(p)\n",
    "    print(\"\\n species (column) reaction (row)\")\n",
    "    print(\"w_in\\t|Ea\\t|b\\t|n_ocen\\t|lnA\\t|w_out\")\n",
    "    np.set_printoptions(precision=2, suppress=True)\n",
    "    print('{}'.format(np.hstack((w_in.T, w_b.reshape(8,1), w_out.T))))\n",
    "    print(\"\\n\")\n",
    "    \n",
    "\n",
    "#display_p(p)"
   ]
  },
  {
   "cell_type": "markdown",
   "metadata": {},
   "source": [
    "# **定义CRNN结构**"
   ]
  },
  {
   "cell_type": "code",
   "execution_count": 10,
   "metadata": {},
   "outputs": [],
   "source": [
    "import julia\n",
    "julia.install()"
   ]
  },
  {
   "cell_type": "code",
   "execution_count": 11,
   "metadata": {},
   "outputs": [],
   "source": [
    "from julia import DiffEqSensitivity as ds"
   ]
  },
  {
   "cell_type": "code",
   "execution_count": 115,
   "metadata": {},
   "outputs": [
    {
     "name": "stdout",
     "output_type": "stream",
     "text": [
      "execution time: 10.467533826828003\n",
      "loss:13.496884135071689\n"
     ]
    }
   ],
   "source": [
    "def crnn(u, p, t):\n",
    "    logX = np.log(np.clip(u, lb, 10.0)).reshape(4,1)\n",
    "    T = getsampletemp(t, T0, beta)\n",
    "    T = np.array([T]).reshape((1,1))\n",
    "    global ocen\n",
    "    ocen = np.array([ocen]).reshape(1,1)\n",
    "    #, R/T.shape, np.log(T).shape, ocen.shape\n",
    "    w_in_x = (w_in.T).dot(np.vstack((logX, R/T, np.log(T), ocen)))\n",
    "    du = (w_out.dot(np.exp(w_in_x.reshape(nr,1) + w_b.reshape(nr,1)))).reshape(ns,)\n",
    "    return du\n",
    "    \n",
    "tspan = [0.0, 1.0]\n",
    "u0 = np.zeros(ns)\n",
    "u0[0] = 1.0\n",
    "\n",
    "\n",
    "# Callback functions\n",
    "# julia:\n",
    "#  condition(u, t, integrator) = u[1] < lb * 10.0\n",
    "# affect!(integrator) = terminate!(integrator)\n",
    "# _cb = DiscreteCallback(condition, affect!)\n",
    "def condition(u, t, integrator):\n",
    "    return u[0] < lb*10.0\n",
    "\n",
    "#_cb = \n",
    "\n",
    "# 算法与自动微分定义\n",
    "alg = de.AutoTsit5(de.TRBDF2(autodiff=True))\n",
    "sense = ds.ForwardSensitivity(autojacvec=True)\n",
    "\n",
    "def pred_n_ode(p, i_exp, exp_data):\n",
    "    \n",
    "    #全局变量定义\n",
    "    global T0\n",
    "    global beta\n",
    "    global ocen\n",
    "    global w_in\n",
    "    global w_b\n",
    "    global w_out\n",
    "\n",
    "    T0, beta, ocen = l_exp_info[i_exp-1, :]\n",
    "    w_in, w_b, w_out = p2vec(p)\n",
    "    w_in = np.array(w_in)\n",
    "    w_b = np.array(w_b)\n",
    "    w_out = np.array(w_out)\n",
    "\n",
    "    ts = exp_data[:,0] # 传地址，exp_data更改时ts亦更改\n",
    "    tspan = [ts[0], ts[-1]]\n",
    "    \n",
    "    prob = de.ODEProblem(crnn, u0, tspan, p, abstol = lb)\n",
    "    \n",
    "    sol = de.solve(\n",
    "        prob,\n",
    "        alg,\n",
    "        tspan = tspan,\n",
    "        p = p,\n",
    "        saveat = ts,\n",
    "        sensalg = sense,\n",
    "        maxiters = maxiters,\n",
    "        # callback = _cb,\n",
    "    )\n",
    "\n",
    "    if sol.retcode == \"Success\":\n",
    "        pass\n",
    "    else:\n",
    "        print(\"solver failed beta: %.0f ocen: %.2f\", beta, np.exp(ocen))\n",
    "  \n",
    "    if len(sol.t) > len(ts):\n",
    "        # @show exp_data[:, 1]\n",
    "        # @show sol.t\n",
    "        return sol.t[0:len(ts)], sol.u[:, 0:len(ts)]\n",
    "    else:\n",
    "        return sol.t, sol.u\n",
    "\n",
    "def loss_neuralnode(p, i_exp):\n",
    "    exp_data = l_exp_data[i_exp-1]\n",
    "    pred_t, pred_u = np.array(pred_n_ode(p, i_exp, exp_data))\n",
    "    \n",
    "    # 需要一个解决方案：\n",
    "    # 将[array([_, _, _, _]) array([_, _, _, _]) array([_, _, _, _]) ...]的列表合并为矩阵\n",
    "    # 目前方法简陋低效\n",
    "    global ns\n",
    "    pred = np.zeros((len(pred_u), ns))\n",
    "    for i in range(len(pred_u)):\n",
    "        pred[i, :] = pred_u[i]\n",
    "\n",
    "    masslist = np.sum(np.clip(pred[0:-1,:], 0, np.Inf),axis=0).T\n",
    "    gaslist = np.clip(pred[-1,:], 0, np.Inf)\n",
    "\n",
    "    # MAE\n",
    "    loss = np.linalg.norm(masslist - exp_data[0:len(masslist), 2], ord=1) / len(masslist)\n",
    "    \n",
    "    if ocen < 1000.0:\n",
    "        loss += np.linalg.norm(gaslist - (1 - exp_data[0:len(gaslist), 2]), ord=1) / len(gaslist)\n",
    "    \n",
    "    return loss\n",
    "\n",
    "timetest1 = time.time()\n",
    "loss = loss_neuralnode(p, 10)\n",
    "timetest2 = time.time()\n",
    "print(\"execution time: \" + str(timetest2 - timetest1))\n",
    "print(\"loss:\" + str(loss))"
   ]
  },
  {
   "cell_type": "markdown",
   "metadata": {},
   "source": [
    "# **训练过程**"
   ]
  },
  {
   "cell_type": "markdown",
   "metadata": {},
   "source": [
    "### 自动微分"
   ]
  },
  {
   "cell_type": "code",
   "execution_count": 117,
   "metadata": {},
   "outputs": [
    {
     "name": "stdout",
     "output_type": "stream",
     "text": [
      "None\n",
      "None\n",
      "None\n",
      "None\n",
      "None\n",
      "None\n",
      "None\n",
      "None\n",
      "None\n",
      "None\n"
     ]
    }
   ],
   "source": [
    "epoches = np.arange(n_epoch)\n",
    "loss_epoch = np.float64(np.zeros(n_exp))\n",
    "grad_norm = np.float64(np.zeros(n_exp))\n",
    "temp = np.arange(1, n_exp+1)\n",
    "np.random.shuffle(temp)\n",
    "for i_exp in temp:\n",
    "    if i_exp in l_val:\n",
    "        continue\n",
    "    #p = tf.Variable(p, dtype=np.float64)\n",
    "    #p = tf.constant(p)\n",
    "    with tf.GradientTape() as Tape:\n",
    "        Tape.watch(p)\n",
    "        loss_para = tf.Variable([[loss_neuralnode(p, i_exp)]])\n",
    "    grad = Tape.gradient(loss_para, p)\n",
    "    print(grad)"
   ]
  },
  {
   "cell_type": "markdown",
   "metadata": {},
   "source": [
    "**5月7日**\n",
    "\n",
    "`tf.GradientTape`在计算我们的问题中的梯度返回为`None`。查阅资料发现，`tf.GradientTape`要求计算过程能表示为清晰的**计算图**。而我们的CRNN模型与损失函数都含有大量的矩阵拆分运算。目前暂不明白Julia中的自动微分是如何运算的。\n",
    "\n",
    "**5月8日:**\n",
    "\n",
    "1. 研读`Julia`的`ForwardDiff.jl`等相关库，试图搞清楚原理\n",
    "2. 继续学习`tf.GradientTape`的原理，并找突破口\n",
    "\n",
    "可能的解决方案：用`Tensorflow`兼容的格式重新设计CRNN与损失函数使其能使用AutoDiff.\n",
    "\n",
    "**5月10日：**\n",
    "\n",
    "Julia的核心问题是反复运行时需要重复加载。而Python/Jupyter Notebook解决方案以分块运行、不用整个重复运行的优点。目前发现Jupyter Notebook可以搭载Julia内核，故可以直接解决这个问题。另外，在Julia平台的原始代码上做二次开发也有助于为我们省略大量不必要的麻烦。幸而，最近的转译工作并没有白费，它帮助我们极其深入地了解了CRNN的内核。\n",
    "\n",
    "**5月11日：**\n",
    "\n",
    "与初师兄讨论方向：是继续python还是Julia？\n",
    "\n",
    "讨论结果：\n",
    "> 之前采取的方式就是Jupyter Notebook，并不解决效率问题。\n",
    "\n",
    "> 尝试下：\n",
    "\n",
    "> 1. 在Python使用Julia内嵌语句解决梯度计算问题。\n",
    "\n",
    "> 2. 继续探索TensorFlow重写模型的可能性。\n"
   ]
  },
  {
   "cell_type": "code",
   "execution_count": null,
   "metadata": {},
   "outputs": [],
   "source": []
  },
  {
   "cell_type": "markdown",
   "metadata": {},
   "source": [
    "# **CRNN结构测试**\n",
    "p.txt为从Julia模型中训练好的矩阵，采用此矩阵来求解，验证正确性。"
   ]
  },
  {
   "cell_type": "code",
   "execution_count": 18,
   "metadata": {},
   "outputs": [],
   "source": [
    "p_test = np.loadtxt(\"Biomass.jl-main\\p.txt\")\n",
    "\n",
    "w_in_test, w_b_test, w_out_test = p2vec(p_test)\n"
   ]
  },
  {
   "cell_type": "code",
   "execution_count": 79,
   "metadata": {},
   "outputs": [
    {
     "name": "stdout",
     "output_type": "stream",
     "text": [
      "1e-08\n"
     ]
    }
   ],
   "source": [
    "exp_data_test = l_exp_data[0]\n",
    "T0_test, beta_test, ocen_test = l_exp_info[0, :]\n",
    "print(ocen_test)\n",
    "R = -1.0 / 8.314e-3"
   ]
  },
  {
   "cell_type": "code",
   "execution_count": 108,
   "metadata": {},
   "outputs": [],
   "source": [
    "ts_test = exp_data_test[:,0] # 传地址，exp_data更改时ts亦更改\n",
    "tspan_test = np.array([ts_test[0], ts_test[-1]])\n",
    "\n",
    "def getsampletemp(t, T0, beta):\n",
    "    \n",
    "    if beta<100:\n",
    "        T = T0 + beta / 60 * t\n",
    "    else:\n",
    "        tc = np.array([999.0, 1059.0]) * 60.0\n",
    "        Tc = np.array([beta, 370.0, 500.0]) + 273.0\n",
    "        HR = 40.0/60.0\n",
    "        if t <= tc[0]:\n",
    "            T = Tc[0]\n",
    "        elif t <= tc[1]:\n",
    "            T = min(Tc[0] + HR * (t-tc[0]), Tc[1])\n",
    "        else:\n",
    "            \n",
    "            T = min(Tc[1] + HR * (t-tc[1]), Tc[2])\n",
    "    return T\n",
    "def crnn_test(u, p, t):\n",
    "    w_in_test, w_b_test, w_out_test = p2vec(p)\n",
    "    logX = np.log(np.clip(u, lb, 10.0)).reshape(4,1)\n",
    "    T_test = getsampletemp(t, T0_test, beta_test)\n",
    "    T_test = np.array([T_test]).reshape(1,1)\n",
    "    global ocen_test\n",
    "    ocen_test = np.array([ocen_test]).reshape(1,1)\n",
    "    w_in_x_test = np.dot(np.transpose(w_in_test), np.vstack((logX, R/T_test, np.log(T_test), ocen_test)))\n",
    "    return np.dot(w_out_test, np.exp(w_in_x_test.reshape(8,1) + w_b_test.reshape(8,1))).reshape(4,)\n",
    "    \n",
    "\n",
    "u0 = np.zeros(ns)\n",
    "u0[0] = 1.0\n",
    "\n",
    "\n",
    "prob_test = de.ODEProblem(crnn_test, u0, tspan, p_test)\n",
    "\n",
    "sol_test = de.solve(\n",
    "    prob_test,\n",
    "    alg = de.AutoTsit5(de.TRBDF2(autodiff=True)),\n",
    "    #alg = de.AutoTsit5(de.Rosenbrock23()),\n",
    "    #alg = de.Rodas4(),\n",
    "    tspan = tspan_test,\n",
    "    p = p_test,\n",
    "    abstol = lb,\n",
    "    saveat = ts_test,\n",
    "    sensalg = ds.ForwardSensitivity(autojacvec = True),\n",
    "    maxiters = maxiters,\n",
    "    # callback = _cb,\n",
    ")"
   ]
  },
  {
   "cell_type": "code",
   "execution_count": 109,
   "metadata": {},
   "outputs": [
    {
     "name": "stdout",
     "output_type": "stream",
     "text": [
      "[-3.09236302e-05  6.77835156e-07  1.63449260e-05  1.41086479e-05]\n"
     ]
    }
   ],
   "source": [
    "print(crnn_test(u0, p_test, 100))"
   ]
  },
  {
   "cell_type": "code",
   "execution_count": 110,
   "metadata": {},
   "outputs": [],
   "source": [
    "pred_test = np.zeros((len(sol_test.u), ns))\n",
    "for i in range(len(sol_test.u)):\n",
    "    pred_test[i, :] = sol_test.u[i]\n",
    "pred_t = sol_test.t"
   ]
  },
  {
   "cell_type": "code",
   "execution_count": 111,
   "metadata": {},
   "outputs": [
    {
     "data": {
      "image/png": "[encoded data removed]",
      "text/plain": [
       "<Figure size 432x288 with 1 Axes>"
      ]
     },
     "metadata": {
      "needs_background": "light"
     },
     "output_type": "display_data"
    }
   ],
   "source": [
    "import matplotlib.pyplot as plt\n",
    "\n",
    "plt.plot(pred_t, pred_test[:,0], c=\"r\")\n",
    "plt.plot(pred_t, pred_test[:,1], c=\"b\")\n",
    "plt.plot(pred_t, pred_test[:,2], c=\"g\")\n",
    "plt.plot(pred_t, pred_test[:,3], c=\"cyan\")\n",
    "\n",
    "plt.savefig(\"test.png\",dpi=800)"
   ]
  },
  {
   "cell_type": "code",
   "execution_count": 114,
   "metadata": {},
   "outputs": [
    {
     "data": {
      "text/plain": [
       "[<matplotlib.lines.Line2D at 0x2ca6a8d77c8>]"
      ]
     },
     "execution_count": 114,
     "metadata": {},
     "output_type": "execute_result"
    },
    {
     "data": {
      "image/png": "[encoded data removed]",
      "text/plain": [
       "<Figure size 432x288 with 1 Axes>"
      ]
     },
     "metadata": {
      "needs_background": "light"
     },
     "output_type": "display_data"
    }
   ],
   "source": [
    "exp_masslist = exp_data_test[:, 2]\n",
    "pred_masslist = np.sum(pred_test[:, :3], axis=1)\n",
    "plt.scatter(pred_t, exp_masslist)\n",
    "plt.plot(pred_t, pred_masslist)"
   ]
  },
  {
   "cell_type": "code",
   "execution_count": 118,
   "metadata": {},
   "outputs": [
    {
     "data": {
      "text/plain": [
       "array([1.        , 0.97011731, 0.95581778, 0.93876029, 0.91334768,\n",
       "       0.88525706, 0.84987892, 0.80305058, 0.75968519, 0.70105175,\n",
       "       0.64255832, 0.59296631, 0.54976827, 0.51527293, 0.48775776,\n",
       "       0.46492665, 0.44646915, 0.4332528 , 0.41765686, 0.39933753,\n",
       "       0.38487703, 0.36841031, 0.35241634, 0.33590559, 0.32113562,\n",
       "       0.30616101, 0.29108763, 0.27847761, 0.26567341, 0.24863343,\n",
       "       0.23135775, 0.21819139, 0.20872039, 0.19152918, 0.18338783,\n",
       "       0.17228719, 0.16273235, 0.15298996, 0.14437193, 0.13840606,\n",
       "       0.13415574, 0.13296133, 0.13270981, 0.13252459, 0.13230086,\n",
       "       0.13193485])"
      ]
     },
     "execution_count": 118,
     "metadata": {},
     "output_type": "execute_result"
    }
   ],
   "source": [
    "pred_masslist"
   ]
  }
 ],
 "metadata": {
  "interpreter": {
   "hash": "0600588c3b5f4418cbe7b5ebc6825b479f3bc010269d8b60d75058cdd010adfe"
  },
  "kernelspec": {
   "display_name": "Python 3.7.7 64-bit",
   "language": "python",
   "name": "python3"
  },
  "language_info": {
   "codemirror_mode": {
    "name": "ipython",
    "version": 3
   },
   "file_extension": ".py",
   "mimetype": "text/x-python",
   "name": "python",
   "nbconvert_exporter": "python",
   "pygments_lexer": "ipython3",
   "version": "3.7.7"
  },
  "orig_nbformat": 4
 },
 "nbformat": 4,
 "nbformat_minor": 2
}
